{
 "cells": [
  {
   "cell_type": "code",
   "id": "initial_id",
   "metadata": {
    "collapsed": true,
    "ExecuteTime": {
     "end_time": "2025-08-29T02:44:53.042068Z",
     "start_time": "2025-08-29T02:44:49.365057Z"
    }
   },
   "source": [
    "from tarfile import version\n",
    "!pip install -U pip setuptools wheel\n",
    "!pip install -U torch torchvision torchaudio"
   ],
   "outputs": [
    {
     "name": "stdout",
     "output_type": "stream",
     "text": [
      "Requirement already satisfied: pip in c:\\users\\jihwan\\anaconda3\\envs\\pythonproject\\lib\\site-packages (25.2)\n",
      "Requirement already satisfied: setuptools in c:\\users\\jihwan\\anaconda3\\envs\\pythonproject\\lib\\site-packages (80.9.0)\n",
      "Requirement already satisfied: wheel in c:\\users\\jihwan\\anaconda3\\envs\\pythonproject\\lib\\site-packages (0.45.1)\n",
      "Requirement already satisfied: torch in c:\\users\\jihwan\\anaconda3\\envs\\pythonproject\\lib\\site-packages (2.8.0)\n",
      "Requirement already satisfied: torchvision in c:\\users\\jihwan\\anaconda3\\envs\\pythonproject\\lib\\site-packages (0.23.0)\n",
      "Requirement already satisfied: torchaudio in c:\\users\\jihwan\\anaconda3\\envs\\pythonproject\\lib\\site-packages (2.8.0)\n",
      "Requirement already satisfied: filelock in c:\\users\\jihwan\\anaconda3\\envs\\pythonproject\\lib\\site-packages (from torch) (3.19.1)\n",
      "Requirement already satisfied: typing-extensions>=4.10.0 in c:\\users\\jihwan\\anaconda3\\envs\\pythonproject\\lib\\site-packages (from torch) (4.15.0)\n",
      "Requirement already satisfied: sympy>=1.13.3 in c:\\users\\jihwan\\anaconda3\\envs\\pythonproject\\lib\\site-packages (from torch) (1.14.0)\n",
      "Requirement already satisfied: networkx in c:\\users\\jihwan\\anaconda3\\envs\\pythonproject\\lib\\site-packages (from torch) (3.5)\n",
      "Requirement already satisfied: jinja2 in c:\\users\\jihwan\\anaconda3\\envs\\pythonproject\\lib\\site-packages (from torch) (3.1.6)\n",
      "Requirement already satisfied: fsspec in c:\\users\\jihwan\\anaconda3\\envs\\pythonproject\\lib\\site-packages (from torch) (2025.7.0)\n",
      "Requirement already satisfied: setuptools in c:\\users\\jihwan\\anaconda3\\envs\\pythonproject\\lib\\site-packages (from torch) (80.9.0)\n",
      "Requirement already satisfied: numpy in c:\\users\\jihwan\\anaconda3\\envs\\pythonproject\\lib\\site-packages (from torchvision) (2.2.6)\n",
      "Requirement already satisfied: pillow!=8.3.*,>=5.3.0 in c:\\users\\jihwan\\anaconda3\\envs\\pythonproject\\lib\\site-packages (from torchvision) (11.3.0)\n",
      "Requirement already satisfied: mpmath<1.4,>=1.1.0 in c:\\users\\jihwan\\anaconda3\\envs\\pythonproject\\lib\\site-packages (from sympy>=1.13.3->torch) (1.3.0)\n",
      "Requirement already satisfied: MarkupSafe>=2.0 in c:\\users\\jihwan\\anaconda3\\envs\\pythonproject\\lib\\site-packages (from jinja2->torch) (3.0.2)\n"
     ]
    }
   ],
   "execution_count": 4
  },
  {
   "metadata": {
    "ExecuteTime": {
     "end_time": "2025-08-28T01:19:52.087978Z",
     "start_time": "2025-08-28T01:19:50.414851Z"
    }
   },
   "cell_type": "code",
   "source": "!git clone https://github.com/myshell-ai/MeloTTS.git",
   "id": "8a3478e4aa24fb1e",
   "outputs": [
    {
     "name": "stderr",
     "output_type": "stream",
     "text": [
      "Cloning into 'MeloTTS'...\n"
     ]
    }
   ],
   "execution_count": 2
  },
  {
   "metadata": {
    "ExecuteTime": {
     "end_time": "2025-08-28T08:43:24.576986Z",
     "start_time": "2025-08-28T08:43:23.126819Z"
    }
   },
   "cell_type": "code",
   "source": "!pip install transformers g2p_en cn2an pypinyin jieba unidecode soundfile mecab-python3 unidic-lite num2words pykakasi fugashi anyascii jamo gruut cached_path g2pkk loguru",
   "id": "d6998f8af417bd91",
   "outputs": [
    {
     "name": "stdout",
     "output_type": "stream",
     "text": [
      "Requirement already satisfied: transformers in c:\\users\\jihwan\\anaconda3\\envs\\pythonproject\\lib\\site-packages (4.55.4)\n",
      "Requirement already satisfied: g2p_en in c:\\users\\jihwan\\anaconda3\\envs\\pythonproject\\lib\\site-packages (2.1.0)\n",
      "Requirement already satisfied: cn2an in c:\\users\\jihwan\\anaconda3\\envs\\pythonproject\\lib\\site-packages (0.5.23)\n",
      "Requirement already satisfied: pypinyin in c:\\users\\jihwan\\anaconda3\\envs\\pythonproject\\lib\\site-packages (0.55.0)\n",
      "Requirement already satisfied: jieba in c:\\users\\jihwan\\anaconda3\\envs\\pythonproject\\lib\\site-packages (0.42.1)\n",
      "Requirement already satisfied: unidecode in c:\\users\\jihwan\\anaconda3\\envs\\pythonproject\\lib\\site-packages (1.4.0)\n",
      "Requirement already satisfied: soundfile in c:\\users\\jihwan\\anaconda3\\envs\\pythonproject\\lib\\site-packages (0.13.1)\n",
      "Requirement already satisfied: mecab-python3 in c:\\users\\jihwan\\anaconda3\\envs\\pythonproject\\lib\\site-packages (1.0.10)\n",
      "Requirement already satisfied: unidic-lite in c:\\users\\jihwan\\anaconda3\\envs\\pythonproject\\lib\\site-packages (1.0.8)\n",
      "Requirement already satisfied: num2words in c:\\users\\jihwan\\anaconda3\\envs\\pythonproject\\lib\\site-packages (0.5.14)\n",
      "Requirement already satisfied: pykakasi in c:\\users\\jihwan\\anaconda3\\envs\\pythonproject\\lib\\site-packages (2.3.0)\n",
      "Requirement already satisfied: fugashi in c:\\users\\jihwan\\anaconda3\\envs\\pythonproject\\lib\\site-packages (1.5.1)\n",
      "Requirement already satisfied: anyascii in c:\\users\\jihwan\\anaconda3\\envs\\pythonproject\\lib\\site-packages (0.3.3)\n",
      "Requirement already satisfied: jamo in c:\\users\\jihwan\\anaconda3\\envs\\pythonproject\\lib\\site-packages (0.4.1)\n",
      "Requirement already satisfied: gruut in c:\\users\\jihwan\\anaconda3\\envs\\pythonproject\\lib\\site-packages (2.4.0)\n",
      "Requirement already satisfied: cached_path in c:\\users\\jihwan\\anaconda3\\envs\\pythonproject\\lib\\site-packages (1.7.3)\n",
      "Requirement already satisfied: g2pkk in c:\\users\\jihwan\\anaconda3\\envs\\pythonproject\\lib\\site-packages (0.1.2)\n",
      "Requirement already satisfied: loguru in c:\\users\\jihwan\\anaconda3\\envs\\pythonproject\\lib\\site-packages (0.7.3)\n",
      "Requirement already satisfied: filelock in c:\\users\\jihwan\\anaconda3\\envs\\pythonproject\\lib\\site-packages (from transformers) (3.19.1)\n",
      "Requirement already satisfied: huggingface-hub<1.0,>=0.34.0 in c:\\users\\jihwan\\anaconda3\\envs\\pythonproject\\lib\\site-packages (from transformers) (0.34.4)\n",
      "Requirement already satisfied: numpy>=1.17 in c:\\users\\jihwan\\anaconda3\\envs\\pythonproject\\lib\\site-packages (from transformers) (2.2.6)\n",
      "Requirement already satisfied: packaging>=20.0 in c:\\users\\jihwan\\anaconda3\\envs\\pythonproject\\lib\\site-packages (from transformers) (25.0)\n",
      "Requirement already satisfied: pyyaml>=5.1 in c:\\users\\jihwan\\anaconda3\\envs\\pythonproject\\lib\\site-packages (from transformers) (6.0.2)\n",
      "Requirement already satisfied: regex!=2019.12.17 in c:\\users\\jihwan\\anaconda3\\envs\\pythonproject\\lib\\site-packages (from transformers) (2025.7.34)\n",
      "Requirement already satisfied: requests in c:\\users\\jihwan\\anaconda3\\envs\\pythonproject\\lib\\site-packages (from transformers) (2.32.4)\n",
      "Requirement already satisfied: tokenizers<0.22,>=0.21 in c:\\users\\jihwan\\anaconda3\\envs\\pythonproject\\lib\\site-packages (from transformers) (0.21.4)\n",
      "Requirement already satisfied: safetensors>=0.4.3 in c:\\users\\jihwan\\anaconda3\\envs\\pythonproject\\lib\\site-packages (from transformers) (0.6.2)\n",
      "Requirement already satisfied: tqdm>=4.27 in c:\\users\\jihwan\\anaconda3\\envs\\pythonproject\\lib\\site-packages (from transformers) (4.67.1)\n",
      "Requirement already satisfied: fsspec>=2023.5.0 in c:\\users\\jihwan\\anaconda3\\envs\\pythonproject\\lib\\site-packages (from huggingface-hub<1.0,>=0.34.0->transformers) (2025.7.0)\n",
      "Requirement already satisfied: typing-extensions>=3.7.4.3 in c:\\users\\jihwan\\anaconda3\\envs\\pythonproject\\lib\\site-packages (from huggingface-hub<1.0,>=0.34.0->transformers) (4.15.0)\n",
      "Requirement already satisfied: nltk>=3.2.4 in c:\\users\\jihwan\\anaconda3\\envs\\pythonproject\\lib\\site-packages (from g2p_en) (3.9.1)\n",
      "Requirement already satisfied: inflect>=0.3.1 in c:\\users\\jihwan\\anaconda3\\envs\\pythonproject\\lib\\site-packages (from g2p_en) (7.5.0)\n",
      "Requirement already satisfied: distance>=0.1.3 in c:\\users\\jihwan\\anaconda3\\envs\\pythonproject\\lib\\site-packages (from g2p_en) (0.1.3)\n",
      "Requirement already satisfied: proces>=0.1.7 in c:\\users\\jihwan\\anaconda3\\envs\\pythonproject\\lib\\site-packages (from cn2an) (0.1.7)\n",
      "Requirement already satisfied: cffi>=1.0 in c:\\users\\jihwan\\anaconda3\\envs\\pythonproject\\lib\\site-packages (from soundfile) (1.17.1)\n",
      "Requirement already satisfied: docopt>=0.6.2 in c:\\users\\jihwan\\anaconda3\\envs\\pythonproject\\lib\\site-packages (from num2words) (0.6.2)\n",
      "Requirement already satisfied: jaconv in c:\\users\\jihwan\\anaconda3\\envs\\pythonproject\\lib\\site-packages (from pykakasi) (0.4.0)\n",
      "Requirement already satisfied: deprecated in c:\\users\\jihwan\\anaconda3\\envs\\pythonproject\\lib\\site-packages (from pykakasi) (1.2.18)\n",
      "Requirement already satisfied: Babel<3.0.0,>=2.8.0 in c:\\users\\jihwan\\anaconda3\\envs\\pythonproject\\lib\\site-packages (from gruut) (2.16.0)\n",
      "Requirement already satisfied: dateparser~=1.1.1 in c:\\users\\jihwan\\anaconda3\\envs\\pythonproject\\lib\\site-packages (from gruut) (1.1.8)\n",
      "Requirement already satisfied: gruut-ipa<1.0,>=0.12.0 in c:\\users\\jihwan\\anaconda3\\envs\\pythonproject\\lib\\site-packages (from gruut) (0.13.0)\n",
      "Requirement already satisfied: gruut_lang_en~=2.0.0 in c:\\users\\jihwan\\anaconda3\\envs\\pythonproject\\lib\\site-packages (from gruut) (2.0.1)\n",
      "Requirement already satisfied: jsonlines~=1.2.0 in c:\\users\\jihwan\\anaconda3\\envs\\pythonproject\\lib\\site-packages (from gruut) (1.2.0)\n",
      "Requirement already satisfied: networkx>=2.5.0 in c:\\users\\jihwan\\anaconda3\\envs\\pythonproject\\lib\\site-packages (from gruut) (3.5)\n",
      "Requirement already satisfied: python-crfsuite~=0.9.7 in c:\\users\\jihwan\\anaconda3\\envs\\pythonproject\\lib\\site-packages (from gruut) (0.9.11)\n",
      "Requirement already satisfied: python-dateutil in c:\\users\\jihwan\\anaconda3\\envs\\pythonproject\\lib\\site-packages (from dateparser~=1.1.1->gruut) (2.9.0.post0)\n",
      "Requirement already satisfied: pytz in c:\\users\\jihwan\\anaconda3\\envs\\pythonproject\\lib\\site-packages (from dateparser~=1.1.1->gruut) (2025.2)\n",
      "Requirement already satisfied: tzlocal in c:\\users\\jihwan\\anaconda3\\envs\\pythonproject\\lib\\site-packages (from dateparser~=1.1.1->gruut) (5.3.1)\n",
      "Requirement already satisfied: six in c:\\users\\jihwan\\anaconda3\\envs\\pythonproject\\lib\\site-packages (from jsonlines~=1.2.0->gruut) (1.17.0)\n",
      "Requirement already satisfied: rich<14.0,>=12.1 in c:\\users\\jihwan\\anaconda3\\envs\\pythonproject\\lib\\site-packages (from cached_path) (13.9.4)\n",
      "Requirement already satisfied: boto3<2.0,>=1.0 in c:\\users\\jihwan\\anaconda3\\envs\\pythonproject\\lib\\site-packages (from cached_path) (1.40.19)\n",
      "Requirement already satisfied: google-cloud-storage<3.0,>=1.32.0 in c:\\users\\jihwan\\anaconda3\\envs\\pythonproject\\lib\\site-packages (from cached_path) (2.19.0)\n",
      "Requirement already satisfied: botocore<1.41.0,>=1.40.19 in c:\\users\\jihwan\\anaconda3\\envs\\pythonproject\\lib\\site-packages (from boto3<2.0,>=1.0->cached_path) (1.40.19)\n",
      "Requirement already satisfied: jmespath<2.0.0,>=0.7.1 in c:\\users\\jihwan\\anaconda3\\envs\\pythonproject\\lib\\site-packages (from boto3<2.0,>=1.0->cached_path) (1.0.1)\n",
      "Requirement already satisfied: s3transfer<0.14.0,>=0.13.0 in c:\\users\\jihwan\\anaconda3\\envs\\pythonproject\\lib\\site-packages (from boto3<2.0,>=1.0->cached_path) (0.13.1)\n",
      "Requirement already satisfied: urllib3!=2.2.0,<3,>=1.25.4 in c:\\users\\jihwan\\anaconda3\\envs\\pythonproject\\lib\\site-packages (from botocore<1.41.0,>=1.40.19->boto3<2.0,>=1.0->cached_path) (2.5.0)\n",
      "Requirement already satisfied: google-auth<3.0dev,>=2.26.1 in c:\\users\\jihwan\\anaconda3\\envs\\pythonproject\\lib\\site-packages (from google-cloud-storage<3.0,>=1.32.0->cached_path) (2.40.3)\n",
      "Requirement already satisfied: google-api-core<3.0.0dev,>=2.15.0 in c:\\users\\jihwan\\anaconda3\\envs\\pythonproject\\lib\\site-packages (from google-cloud-storage<3.0,>=1.32.0->cached_path) (2.25.1)\n",
      "Requirement already satisfied: google-cloud-core<3.0dev,>=2.3.0 in c:\\users\\jihwan\\anaconda3\\envs\\pythonproject\\lib\\site-packages (from google-cloud-storage<3.0,>=1.32.0->cached_path) (2.4.3)\n",
      "Requirement already satisfied: google-resumable-media>=2.7.2 in c:\\users\\jihwan\\anaconda3\\envs\\pythonproject\\lib\\site-packages (from google-cloud-storage<3.0,>=1.32.0->cached_path) (2.7.2)\n",
      "Requirement already satisfied: google-crc32c<2.0dev,>=1.0 in c:\\users\\jihwan\\anaconda3\\envs\\pythonproject\\lib\\site-packages (from google-cloud-storage<3.0,>=1.32.0->cached_path) (1.7.1)\n",
      "Requirement already satisfied: googleapis-common-protos<2.0.0,>=1.56.2 in c:\\users\\jihwan\\anaconda3\\envs\\pythonproject\\lib\\site-packages (from google-api-core<3.0.0dev,>=2.15.0->google-cloud-storage<3.0,>=1.32.0->cached_path) (1.70.0)\n",
      "Requirement already satisfied: protobuf!=3.20.0,!=3.20.1,!=4.21.0,!=4.21.1,!=4.21.2,!=4.21.3,!=4.21.4,!=4.21.5,<7.0.0,>=3.19.5 in c:\\users\\jihwan\\anaconda3\\envs\\pythonproject\\lib\\site-packages (from google-api-core<3.0.0dev,>=2.15.0->google-cloud-storage<3.0,>=1.32.0->cached_path) (6.32.0)\n",
      "Requirement already satisfied: proto-plus<2.0.0,>=1.22.3 in c:\\users\\jihwan\\anaconda3\\envs\\pythonproject\\lib\\site-packages (from google-api-core<3.0.0dev,>=2.15.0->google-cloud-storage<3.0,>=1.32.0->cached_path) (1.26.1)\n",
      "Requirement already satisfied: cachetools<6.0,>=2.0.0 in c:\\users\\jihwan\\anaconda3\\envs\\pythonproject\\lib\\site-packages (from google-auth<3.0dev,>=2.26.1->google-cloud-storage<3.0,>=1.32.0->cached_path) (5.5.2)\n",
      "Requirement already satisfied: pyasn1-modules>=0.2.1 in c:\\users\\jihwan\\anaconda3\\envs\\pythonproject\\lib\\site-packages (from google-auth<3.0dev,>=2.26.1->google-cloud-storage<3.0,>=1.32.0->cached_path) (0.4.2)\n",
      "Requirement already satisfied: rsa<5,>=3.1.4 in c:\\users\\jihwan\\anaconda3\\envs\\pythonproject\\lib\\site-packages (from google-auth<3.0dev,>=2.26.1->google-cloud-storage<3.0,>=1.32.0->cached_path) (4.9.1)\n",
      "Requirement already satisfied: charset_normalizer<4,>=2 in c:\\users\\jihwan\\anaconda3\\envs\\pythonproject\\lib\\site-packages (from requests->transformers) (3.3.2)\n",
      "Requirement already satisfied: idna<4,>=2.5 in c:\\users\\jihwan\\anaconda3\\envs\\pythonproject\\lib\\site-packages (from requests->transformers) (3.10)\n",
      "Requirement already satisfied: certifi>=2017.4.17 in c:\\users\\jihwan\\anaconda3\\envs\\pythonproject\\lib\\site-packages (from requests->transformers) (2025.8.3)\n",
      "Requirement already satisfied: markdown-it-py>=2.2.0 in c:\\users\\jihwan\\anaconda3\\envs\\pythonproject\\lib\\site-packages (from rich<14.0,>=12.1->cached_path) (4.0.0)\n",
      "Requirement already satisfied: pygments<3.0.0,>=2.13.0 in c:\\users\\jihwan\\anaconda3\\envs\\pythonproject\\lib\\site-packages (from rich<14.0,>=12.1->cached_path) (2.19.1)\n",
      "Requirement already satisfied: pyasn1>=0.1.3 in c:\\users\\jihwan\\anaconda3\\envs\\pythonproject\\lib\\site-packages (from rsa<5,>=3.1.4->google-auth<3.0dev,>=2.26.1->google-cloud-storage<3.0,>=1.32.0->cached_path) (0.6.1)\n",
      "Requirement already satisfied: colorama>=0.3.4 in c:\\users\\jihwan\\anaconda3\\envs\\pythonproject\\lib\\site-packages (from loguru) (0.4.6)\n",
      "Requirement already satisfied: win32-setctime>=1.0.0 in c:\\users\\jihwan\\anaconda3\\envs\\pythonproject\\lib\\site-packages (from loguru) (1.2.0)\n",
      "Requirement already satisfied: pycparser in c:\\users\\jihwan\\anaconda3\\envs\\pythonproject\\lib\\site-packages (from cffi>=1.0->soundfile) (2.21)\n",
      "Requirement already satisfied: more_itertools>=8.5.0 in c:\\users\\jihwan\\anaconda3\\envs\\pythonproject\\lib\\site-packages (from inflect>=0.3.1->g2p_en) (10.7.0)\n",
      "Requirement already satisfied: typeguard>=4.0.1 in c:\\users\\jihwan\\anaconda3\\envs\\pythonproject\\lib\\site-packages (from inflect>=0.3.1->g2p_en) (4.4.4)\n",
      "Requirement already satisfied: mdurl~=0.1 in c:\\users\\jihwan\\anaconda3\\envs\\pythonproject\\lib\\site-packages (from markdown-it-py>=2.2.0->rich<14.0,>=12.1->cached_path) (0.1.2)\n",
      "Requirement already satisfied: click in c:\\users\\jihwan\\anaconda3\\envs\\pythonproject\\lib\\site-packages (from nltk>=3.2.4->g2p_en) (8.2.1)\n",
      "Requirement already satisfied: joblib in c:\\users\\jihwan\\anaconda3\\envs\\pythonproject\\lib\\site-packages (from nltk>=3.2.4->g2p_en) (1.5.1)\n",
      "Requirement already satisfied: wrapt<2,>=1.10 in c:\\users\\jihwan\\anaconda3\\envs\\pythonproject\\lib\\site-packages (from deprecated->pykakasi) (1.17.3)\n",
      "Requirement already satisfied: tzdata in c:\\users\\jihwan\\anaconda3\\envs\\pythonproject\\lib\\site-packages (from tzlocal->dateparser~=1.1.1->gruut) (2025.2)\n"
     ]
    }
   ],
   "execution_count": 2
  },
  {
   "metadata": {
    "ExecuteTime": {
     "end_time": "2025-08-28T01:33:08.341036Z",
     "start_time": "2025-08-28T01:32:23.603662Z"
    }
   },
   "cell_type": "code",
   "source": [
    "%cd MeloTTS\n",
    "!pip install -e ."
   ],
   "id": "efe38002e373b9fb",
   "outputs": [
    {
     "name": "stdout",
     "output_type": "stream",
     "text": [
      "C:\\Users\\JiHwan\\PycharmProjects\\PythonProject\\MeloTTS\n",
      "Obtaining file:///C:/Users/JiHwan/PycharmProjects/PythonProject/MeloTTS\n",
      "  Preparing metadata (setup.py): started\n",
      "  Preparing metadata (setup.py): finished with status 'done'\n",
      "Collecting txtsplit (from melotts==0.1.2)\n",
      "  Using cached txtsplit-1.0.0-py3-none-any.whl\n",
      "Requirement already satisfied: torch in c:\\users\\jihwan\\anaconda3\\envs\\pythonproject\\lib\\site-packages (from melotts==0.1.2) (2.8.0)\n",
      "Requirement already satisfied: torchaudio in c:\\users\\jihwan\\anaconda3\\envs\\pythonproject\\lib\\site-packages (from melotts==0.1.2) (2.8.0)\n",
      "Requirement already satisfied: cached_path in c:\\users\\jihwan\\anaconda3\\envs\\pythonproject\\lib\\site-packages (from melotts==0.1.2) (1.7.3)\n",
      "Collecting transformers==4.27.4 (from melotts==0.1.2)\n",
      "  Using cached transformers-4.27.4-py3-none-any.whl.metadata (106 kB)\n",
      "Collecting num2words==0.5.12 (from melotts==0.1.2)\n",
      "  Using cached num2words-0.5.12-py3-none-any.whl.metadata (11 kB)\n",
      "Requirement already satisfied: unidic_lite==1.0.8 in c:\\users\\jihwan\\anaconda3\\envs\\pythonproject\\lib\\site-packages (from melotts==0.1.2) (1.0.8)\n",
      "Collecting unidic==1.1.0 (from melotts==0.1.2)\n",
      "  Using cached unidic-1.1.0-py3-none-any.whl\n",
      "Collecting mecab-python3==1.0.9 (from melotts==0.1.2)\n",
      "  Using cached mecab_python3-1.0.9-cp312-cp312-win_amd64.whl.metadata (6.3 kB)\n",
      "Collecting pykakasi==2.2.1 (from melotts==0.1.2)\n",
      "  Using cached pykakasi-2.2.1-py3-none-any.whl.metadata (10 kB)\n",
      "Collecting fugashi==1.3.0 (from melotts==0.1.2)\n",
      "  Using cached fugashi-1.3.0.tar.gz (338 kB)\n",
      "  Preparing metadata (setup.py): started\n",
      "  Preparing metadata (setup.py): finished with status 'done'\n",
      "Requirement already satisfied: g2p_en==2.1.0 in c:\\users\\jihwan\\anaconda3\\envs\\pythonproject\\lib\\site-packages (from melotts==0.1.2) (2.1.0)\n",
      "Collecting anyascii==0.3.2 (from melotts==0.1.2)\n",
      "  Using cached anyascii-0.3.2-py3-none-any.whl.metadata (1.5 kB)\n",
      "Requirement already satisfied: jamo==0.4.1 in c:\\users\\jihwan\\anaconda3\\envs\\pythonproject\\lib\\site-packages (from melotts==0.1.2) (0.4.1)\n",
      "Collecting gruut==2.2.3 (from gruut[de,es,fr]==2.2.3->melotts==0.1.2)\n",
      "  Using cached gruut-2.2.3-py3-none-any.whl\n",
      "Requirement already satisfied: g2pkk>=0.1.1 in c:\\users\\jihwan\\anaconda3\\envs\\pythonproject\\lib\\site-packages (from melotts==0.1.2) (0.1.2)\n",
      "Collecting librosa==0.9.1 (from melotts==0.1.2)\n",
      "  Using cached librosa-0.9.1-py3-none-any.whl.metadata (6.9 kB)\n",
      "Collecting pydub==0.25.1 (from melotts==0.1.2)\n",
      "  Using cached pydub-0.25.1-py2.py3-none-any.whl.metadata (1.4 kB)\n",
      "Collecting eng_to_ipa==0.0.2 (from melotts==0.1.2)\n",
      "  Using cached eng_to_ipa-0.0.2-py3-none-any.whl\n",
      "Collecting inflect==7.0.0 (from melotts==0.1.2)\n",
      "  Using cached inflect-7.0.0-py3-none-any.whl.metadata (21 kB)\n",
      "Collecting unidecode==1.3.7 (from melotts==0.1.2)\n",
      "  Using cached Unidecode-1.3.7-py3-none-any.whl.metadata (13 kB)\n",
      "Collecting pypinyin==0.50.0 (from melotts==0.1.2)\n",
      "  Using cached pypinyin-0.50.0-py2.py3-none-any.whl.metadata (12 kB)\n",
      "Collecting cn2an==0.5.22 (from melotts==0.1.2)\n",
      "  Using cached cn2an-0.5.22-py3-none-any.whl.metadata (10 kB)\n",
      "Requirement already satisfied: jieba==0.42.1 in c:\\users\\jihwan\\anaconda3\\envs\\pythonproject\\lib\\site-packages (from melotts==0.1.2) (0.42.1)\n",
      "Collecting gradio (from melotts==0.1.2)\n",
      "  Using cached gradio-5.44.0-py3-none-any.whl.metadata (16 kB)\n",
      "Collecting langid==1.1.6 (from melotts==0.1.2)\n",
      "  Using cached langid-1.1.6-py3-none-any.whl\n",
      "Requirement already satisfied: tqdm in c:\\users\\jihwan\\anaconda3\\envs\\pythonproject\\lib\\site-packages (from melotts==0.1.2) (4.67.1)\n",
      "Collecting tensorboard==2.16.2 (from melotts==0.1.2)\n",
      "  Using cached tensorboard-2.16.2-py3-none-any.whl.metadata (1.6 kB)\n",
      "Collecting loguru==0.7.2 (from melotts==0.1.2)\n",
      "  Using cached loguru-0.7.2-py3-none-any.whl.metadata (23 kB)\n",
      "Requirement already satisfied: setuptools>=47.3.1 in c:\\users\\jihwan\\anaconda3\\envs\\pythonproject\\lib\\site-packages (from cn2an==0.5.22->melotts==0.1.2) (80.9.0)\n",
      "Requirement already satisfied: proces>=0.1.3 in c:\\users\\jihwan\\anaconda3\\envs\\pythonproject\\lib\\site-packages (from cn2an==0.5.22->melotts==0.1.2) (0.1.7)\n",
      "Requirement already satisfied: numpy>=1.13.1 in c:\\users\\jihwan\\anaconda3\\envs\\pythonproject\\lib\\site-packages (from g2p_en==2.1.0->melotts==0.1.2) (2.2.6)\n",
      "Requirement already satisfied: nltk>=3.2.4 in c:\\users\\jihwan\\anaconda3\\envs\\pythonproject\\lib\\site-packages (from g2p_en==2.1.0->melotts==0.1.2) (3.9.1)\n",
      "Requirement already satisfied: distance>=0.1.3 in c:\\users\\jihwan\\anaconda3\\envs\\pythonproject\\lib\\site-packages (from g2p_en==2.1.0->melotts==0.1.2) (0.1.3)\n",
      "Requirement already satisfied: Babel<3.0.0,>=2.8.0 in c:\\users\\jihwan\\anaconda3\\envs\\pythonproject\\lib\\site-packages (from gruut==2.2.3->gruut[de,es,fr]==2.2.3->melotts==0.1.2) (2.16.0)\n",
      "Requirement already satisfied: dateparser~=1.1.0 in c:\\users\\jihwan\\anaconda3\\envs\\pythonproject\\lib\\site-packages (from gruut==2.2.3->gruut[de,es,fr]==2.2.3->melotts==0.1.2) (1.1.8)\n",
      "Requirement already satisfied: gruut-ipa<1.0,>=0.12.0 in c:\\users\\jihwan\\anaconda3\\envs\\pythonproject\\lib\\site-packages (from gruut==2.2.3->gruut[de,es,fr]==2.2.3->melotts==0.1.2) (0.13.0)\n",
      "Requirement already satisfied: gruut_lang_en~=2.0.0 in c:\\users\\jihwan\\anaconda3\\envs\\pythonproject\\lib\\site-packages (from gruut==2.2.3->gruut[de,es,fr]==2.2.3->melotts==0.1.2) (2.0.1)\n",
      "Requirement already satisfied: jsonlines~=1.2.0 in c:\\users\\jihwan\\anaconda3\\envs\\pythonproject\\lib\\site-packages (from gruut==2.2.3->gruut[de,es,fr]==2.2.3->melotts==0.1.2) (1.2.0)\n",
      "Collecting networkx<3.0.0,>=2.5.0 (from gruut==2.2.3->gruut[de,es,fr]==2.2.3->melotts==0.1.2)\n",
      "  Using cached networkx-2.8.8-py3-none-any.whl.metadata (5.1 kB)\n",
      "Collecting numpy>=1.13.1 (from g2p_en==2.1.0->melotts==0.1.2)\n",
      "  Using cached numpy-1.26.4-cp312-cp312-win_amd64.whl.metadata (61 kB)\n",
      "Requirement already satisfied: python-crfsuite~=0.9.7 in c:\\users\\jihwan\\anaconda3\\envs\\pythonproject\\lib\\site-packages (from gruut==2.2.3->gruut[de,es,fr]==2.2.3->melotts==0.1.2) (0.9.11)\n",
      "Requirement already satisfied: docopt>=0.6.2 in c:\\users\\jihwan\\anaconda3\\envs\\pythonproject\\lib\\site-packages (from num2words==0.5.12->melotts==0.1.2) (0.6.2)\n",
      "Collecting gruut_lang_de~=2.0.0 (from gruut[de,es,fr]==2.2.3->melotts==0.1.2)\n",
      "  Using cached gruut_lang_de-2.0.1-py3-none-any.whl\n",
      "Collecting gruut_lang_es~=2.0.0 (from gruut[de,es,fr]==2.2.3->melotts==0.1.2)\n",
      "  Using cached gruut_lang_es-2.0.1-py3-none-any.whl\n",
      "Collecting gruut_lang_fr~=2.0.0 (from gruut[de,es,fr]==2.2.3->melotts==0.1.2)\n",
      "  Using cached gruut_lang_fr-2.0.2-py3-none-any.whl\n",
      "Collecting pydantic>=1.9.1 (from inflect==7.0.0->melotts==0.1.2)\n",
      "  Using cached pydantic-2.11.7-py3-none-any.whl.metadata (67 kB)\n",
      "Requirement already satisfied: typing-extensions in c:\\users\\jihwan\\anaconda3\\envs\\pythonproject\\lib\\site-packages (from inflect==7.0.0->melotts==0.1.2) (4.15.0)\n",
      "Requirement already satisfied: audioread>=2.1.5 in c:\\users\\jihwan\\anaconda3\\envs\\pythonproject\\lib\\site-packages (from librosa==0.9.1->melotts==0.1.2) (3.0.1)\n",
      "Requirement already satisfied: scipy>=1.2.0 in c:\\users\\jihwan\\anaconda3\\envs\\pythonproject\\lib\\site-packages (from librosa==0.9.1->melotts==0.1.2) (1.16.1)\n",
      "Requirement already satisfied: scikit-learn>=0.19.1 in c:\\users\\jihwan\\anaconda3\\envs\\pythonproject\\lib\\site-packages (from librosa==0.9.1->melotts==0.1.2) (1.7.1)\n",
      "Requirement already satisfied: joblib>=0.14 in c:\\users\\jihwan\\anaconda3\\envs\\pythonproject\\lib\\site-packages (from librosa==0.9.1->melotts==0.1.2) (1.5.1)\n",
      "Requirement already satisfied: decorator>=4.0.10 in c:\\users\\jihwan\\anaconda3\\envs\\pythonproject\\lib\\site-packages (from librosa==0.9.1->melotts==0.1.2) (5.1.1)\n",
      "Collecting resampy>=0.2.2 (from librosa==0.9.1->melotts==0.1.2)\n",
      "  Using cached resampy-0.4.3-py3-none-any.whl.metadata (3.0 kB)\n",
      "Requirement already satisfied: numba>=0.45.1 in c:\\users\\jihwan\\anaconda3\\envs\\pythonproject\\lib\\site-packages (from librosa==0.9.1->melotts==0.1.2) (0.61.2)\n",
      "Requirement already satisfied: soundfile>=0.10.2 in c:\\users\\jihwan\\anaconda3\\envs\\pythonproject\\lib\\site-packages (from librosa==0.9.1->melotts==0.1.2) (0.13.1)\n",
      "Requirement already satisfied: pooch>=1.0 in c:\\users\\jihwan\\anaconda3\\envs\\pythonproject\\lib\\site-packages (from librosa==0.9.1->melotts==0.1.2) (1.8.2)\n",
      "Requirement already satisfied: packaging>=20.0 in c:\\users\\jihwan\\anaconda3\\envs\\pythonproject\\lib\\site-packages (from librosa==0.9.1->melotts==0.1.2) (25.0)\n",
      "Requirement already satisfied: colorama>=0.3.4 in c:\\users\\jihwan\\anaconda3\\envs\\pythonproject\\lib\\site-packages (from loguru==0.7.2->melotts==0.1.2) (0.4.6)\n",
      "Requirement already satisfied: win32-setctime>=1.0.0 in c:\\users\\jihwan\\anaconda3\\envs\\pythonproject\\lib\\site-packages (from loguru==0.7.2->melotts==0.1.2) (1.2.0)\n",
      "Requirement already satisfied: jaconv in c:\\users\\jihwan\\anaconda3\\envs\\pythonproject\\lib\\site-packages (from pykakasi==2.2.1->melotts==0.1.2) (0.4.0)\n",
      "Requirement already satisfied: deprecated in c:\\users\\jihwan\\anaconda3\\envs\\pythonproject\\lib\\site-packages (from pykakasi==2.2.1->melotts==0.1.2) (1.2.18)\n",
      "Collecting absl-py>=0.4 (from tensorboard==2.16.2->melotts==0.1.2)\n",
      "  Using cached absl_py-2.3.1-py3-none-any.whl.metadata (3.3 kB)\n",
      "Collecting grpcio>=1.48.2 (from tensorboard==2.16.2->melotts==0.1.2)\n",
      "  Using cached grpcio-1.74.0-cp312-cp312-win_amd64.whl.metadata (4.0 kB)\n",
      "Collecting markdown>=2.6.8 (from tensorboard==2.16.2->melotts==0.1.2)\n",
      "  Using cached markdown-3.8.2-py3-none-any.whl.metadata (5.1 kB)\n",
      "Requirement already satisfied: protobuf!=4.24.0,>=3.19.6 in c:\\users\\jihwan\\anaconda3\\envs\\pythonproject\\lib\\site-packages (from tensorboard==2.16.2->melotts==0.1.2) (6.32.0)\n",
      "Requirement already satisfied: six>1.9 in c:\\users\\jihwan\\anaconda3\\envs\\pythonproject\\lib\\site-packages (from tensorboard==2.16.2->melotts==0.1.2) (1.17.0)\n",
      "Collecting tensorboard-data-server<0.8.0,>=0.7.0 (from tensorboard==2.16.2->melotts==0.1.2)\n",
      "  Using cached tensorboard_data_server-0.7.2-py3-none-any.whl.metadata (1.1 kB)\n",
      "Collecting werkzeug>=1.0.1 (from tensorboard==2.16.2->melotts==0.1.2)\n",
      "  Using cached werkzeug-3.1.3-py3-none-any.whl.metadata (3.7 kB)\n",
      "Requirement already satisfied: filelock in c:\\users\\jihwan\\anaconda3\\envs\\pythonproject\\lib\\site-packages (from transformers==4.27.4->melotts==0.1.2) (3.19.1)\n",
      "Requirement already satisfied: huggingface-hub<1.0,>=0.11.0 in c:\\users\\jihwan\\anaconda3\\envs\\pythonproject\\lib\\site-packages (from transformers==4.27.4->melotts==0.1.2) (0.34.4)\n",
      "Requirement already satisfied: pyyaml>=5.1 in c:\\users\\jihwan\\anaconda3\\envs\\pythonproject\\lib\\site-packages (from transformers==4.27.4->melotts==0.1.2) (6.0.2)\n",
      "Requirement already satisfied: regex!=2019.12.17 in c:\\users\\jihwan\\anaconda3\\envs\\pythonproject\\lib\\site-packages (from transformers==4.27.4->melotts==0.1.2) (2025.7.34)\n",
      "Requirement already satisfied: requests in c:\\users\\jihwan\\anaconda3\\envs\\pythonproject\\lib\\site-packages (from transformers==4.27.4->melotts==0.1.2) (2.32.4)\n",
      "Collecting tokenizers!=0.11.3,<0.14,>=0.11.1 (from transformers==4.27.4->melotts==0.1.2)\n",
      "  Using cached tokenizers-0.13.3.tar.gz (314 kB)\n",
      "  Installing build dependencies: started\n",
      "  Installing build dependencies: finished with status 'done'\n",
      "  Getting requirements to build wheel: started\n",
      "  Getting requirements to build wheel: finished with status 'done'\n",
      "  Preparing metadata (pyproject.toml): started\n",
      "  Preparing metadata (pyproject.toml): finished with status 'done'\n",
      "Collecting wasabi<1.0.0,>=0.6.0 (from unidic==1.1.0->melotts==0.1.2)\n",
      "  Using cached wasabi-0.10.1-py3-none-any.whl.metadata (28 kB)\n",
      "Collecting plac<2.0.0,>=1.1.3 (from unidic==1.1.0->melotts==0.1.2)\n",
      "  Using cached plac-1.4.5-py2.py3-none-any.whl.metadata (5.9 kB)\n",
      "Requirement already satisfied: python-dateutil in c:\\users\\jihwan\\anaconda3\\envs\\pythonproject\\lib\\site-packages (from dateparser~=1.1.0->gruut==2.2.3->gruut[de,es,fr]==2.2.3->melotts==0.1.2) (2.9.0.post0)\n",
      "Requirement already satisfied: pytz in c:\\users\\jihwan\\anaconda3\\envs\\pythonproject\\lib\\site-packages (from dateparser~=1.1.0->gruut==2.2.3->gruut[de,es,fr]==2.2.3->melotts==0.1.2) (2025.2)\n",
      "Requirement already satisfied: tzlocal in c:\\users\\jihwan\\anaconda3\\envs\\pythonproject\\lib\\site-packages (from dateparser~=1.1.0->gruut==2.2.3->gruut[de,es,fr]==2.2.3->melotts==0.1.2) (5.3.1)\n",
      "Requirement already satisfied: fsspec>=2023.5.0 in c:\\users\\jihwan\\anaconda3\\envs\\pythonproject\\lib\\site-packages (from huggingface-hub<1.0,>=0.11.0->transformers==4.27.4->melotts==0.1.2) (2025.7.0)\n",
      "Requirement already satisfied: charset_normalizer<4,>=2 in c:\\users\\jihwan\\anaconda3\\envs\\pythonproject\\lib\\site-packages (from requests->transformers==4.27.4->melotts==0.1.2) (3.3.2)\n",
      "Requirement already satisfied: idna<4,>=2.5 in c:\\users\\jihwan\\anaconda3\\envs\\pythonproject\\lib\\site-packages (from requests->transformers==4.27.4->melotts==0.1.2) (3.10)\n",
      "Requirement already satisfied: urllib3<3,>=1.21.1 in c:\\users\\jihwan\\anaconda3\\envs\\pythonproject\\lib\\site-packages (from requests->transformers==4.27.4->melotts==0.1.2) (2.5.0)\n",
      "Requirement already satisfied: certifi>=2017.4.17 in c:\\users\\jihwan\\anaconda3\\envs\\pythonproject\\lib\\site-packages (from requests->transformers==4.27.4->melotts==0.1.2) (2025.8.3)\n",
      "Requirement already satisfied: click in c:\\users\\jihwan\\anaconda3\\envs\\pythonproject\\lib\\site-packages (from nltk>=3.2.4->g2p_en==2.1.0->melotts==0.1.2) (8.2.1)\n",
      "Requirement already satisfied: llvmlite<0.45,>=0.44.0dev0 in c:\\users\\jihwan\\anaconda3\\envs\\pythonproject\\lib\\site-packages (from numba>=0.45.1->librosa==0.9.1->melotts==0.1.2) (0.44.0)\n",
      "Requirement already satisfied: platformdirs>=2.5.0 in c:\\users\\jihwan\\anaconda3\\envs\\pythonproject\\lib\\site-packages (from pooch>=1.0->librosa==0.9.1->melotts==0.1.2) (4.3.7)\n",
      "Collecting annotated-types>=0.6.0 (from pydantic>=1.9.1->inflect==7.0.0->melotts==0.1.2)\n",
      "  Using cached annotated_types-0.7.0-py3-none-any.whl.metadata (15 kB)\n",
      "Collecting pydantic-core==2.33.2 (from pydantic>=1.9.1->inflect==7.0.0->melotts==0.1.2)\n",
      "  Using cached pydantic_core-2.33.2-cp312-cp312-win_amd64.whl.metadata (6.9 kB)\n",
      "Collecting typing-inspection>=0.4.0 (from pydantic>=1.9.1->inflect==7.0.0->melotts==0.1.2)\n",
      "  Using cached typing_inspection-0.4.1-py3-none-any.whl.metadata (2.6 kB)\n",
      "Requirement already satisfied: threadpoolctl>=3.1.0 in c:\\users\\jihwan\\anaconda3\\envs\\pythonproject\\lib\\site-packages (from scikit-learn>=0.19.1->librosa==0.9.1->melotts==0.1.2) (3.6.0)\n",
      "Requirement already satisfied: cffi>=1.0 in c:\\users\\jihwan\\anaconda3\\envs\\pythonproject\\lib\\site-packages (from soundfile>=0.10.2->librosa==0.9.1->melotts==0.1.2) (1.17.1)\n",
      "Requirement already satisfied: pycparser in c:\\users\\jihwan\\anaconda3\\envs\\pythonproject\\lib\\site-packages (from cffi>=1.0->soundfile>=0.10.2->librosa==0.9.1->melotts==0.1.2) (2.21)\n",
      "Requirement already satisfied: MarkupSafe>=2.1.1 in c:\\users\\jihwan\\anaconda3\\envs\\pythonproject\\lib\\site-packages (from werkzeug>=1.0.1->tensorboard==2.16.2->melotts==0.1.2) (3.0.2)\n",
      "Requirement already satisfied: rich<14.0,>=12.1 in c:\\users\\jihwan\\anaconda3\\envs\\pythonproject\\lib\\site-packages (from cached_path->melotts==0.1.2) (13.9.4)\n",
      "Requirement already satisfied: boto3<2.0,>=1.0 in c:\\users\\jihwan\\anaconda3\\envs\\pythonproject\\lib\\site-packages (from cached_path->melotts==0.1.2) (1.40.19)\n",
      "Requirement already satisfied: google-cloud-storage<3.0,>=1.32.0 in c:\\users\\jihwan\\anaconda3\\envs\\pythonproject\\lib\\site-packages (from cached_path->melotts==0.1.2) (2.19.0)\n",
      "Requirement already satisfied: botocore<1.41.0,>=1.40.19 in c:\\users\\jihwan\\anaconda3\\envs\\pythonproject\\lib\\site-packages (from boto3<2.0,>=1.0->cached_path->melotts==0.1.2) (1.40.19)\n",
      "Requirement already satisfied: jmespath<2.0.0,>=0.7.1 in c:\\users\\jihwan\\anaconda3\\envs\\pythonproject\\lib\\site-packages (from boto3<2.0,>=1.0->cached_path->melotts==0.1.2) (1.0.1)\n",
      "Requirement already satisfied: s3transfer<0.14.0,>=0.13.0 in c:\\users\\jihwan\\anaconda3\\envs\\pythonproject\\lib\\site-packages (from boto3<2.0,>=1.0->cached_path->melotts==0.1.2) (0.13.1)\n",
      "Requirement already satisfied: google-auth<3.0dev,>=2.26.1 in c:\\users\\jihwan\\anaconda3\\envs\\pythonproject\\lib\\site-packages (from google-cloud-storage<3.0,>=1.32.0->cached_path->melotts==0.1.2) (2.40.3)\n",
      "Requirement already satisfied: google-api-core<3.0.0dev,>=2.15.0 in c:\\users\\jihwan\\anaconda3\\envs\\pythonproject\\lib\\site-packages (from google-cloud-storage<3.0,>=1.32.0->cached_path->melotts==0.1.2) (2.25.1)\n",
      "Requirement already satisfied: google-cloud-core<3.0dev,>=2.3.0 in c:\\users\\jihwan\\anaconda3\\envs\\pythonproject\\lib\\site-packages (from google-cloud-storage<3.0,>=1.32.0->cached_path->melotts==0.1.2) (2.4.3)\n",
      "Requirement already satisfied: google-resumable-media>=2.7.2 in c:\\users\\jihwan\\anaconda3\\envs\\pythonproject\\lib\\site-packages (from google-cloud-storage<3.0,>=1.32.0->cached_path->melotts==0.1.2) (2.7.2)\n",
      "Requirement already satisfied: google-crc32c<2.0dev,>=1.0 in c:\\users\\jihwan\\anaconda3\\envs\\pythonproject\\lib\\site-packages (from google-cloud-storage<3.0,>=1.32.0->cached_path->melotts==0.1.2) (1.7.1)\n",
      "Requirement already satisfied: googleapis-common-protos<2.0.0,>=1.56.2 in c:\\users\\jihwan\\anaconda3\\envs\\pythonproject\\lib\\site-packages (from google-api-core<3.0.0dev,>=2.15.0->google-cloud-storage<3.0,>=1.32.0->cached_path->melotts==0.1.2) (1.70.0)\n",
      "Requirement already satisfied: proto-plus<2.0.0,>=1.22.3 in c:\\users\\jihwan\\anaconda3\\envs\\pythonproject\\lib\\site-packages (from google-api-core<3.0.0dev,>=2.15.0->google-cloud-storage<3.0,>=1.32.0->cached_path->melotts==0.1.2) (1.26.1)\n",
      "Requirement already satisfied: cachetools<6.0,>=2.0.0 in c:\\users\\jihwan\\anaconda3\\envs\\pythonproject\\lib\\site-packages (from google-auth<3.0dev,>=2.26.1->google-cloud-storage<3.0,>=1.32.0->cached_path->melotts==0.1.2) (5.5.2)\n",
      "Requirement already satisfied: pyasn1-modules>=0.2.1 in c:\\users\\jihwan\\anaconda3\\envs\\pythonproject\\lib\\site-packages (from google-auth<3.0dev,>=2.26.1->google-cloud-storage<3.0,>=1.32.0->cached_path->melotts==0.1.2) (0.4.2)\n",
      "Requirement already satisfied: rsa<5,>=3.1.4 in c:\\users\\jihwan\\anaconda3\\envs\\pythonproject\\lib\\site-packages (from google-auth<3.0dev,>=2.26.1->google-cloud-storage<3.0,>=1.32.0->cached_path->melotts==0.1.2) (4.9.1)\n",
      "Requirement already satisfied: markdown-it-py>=2.2.0 in c:\\users\\jihwan\\anaconda3\\envs\\pythonproject\\lib\\site-packages (from rich<14.0,>=12.1->cached_path->melotts==0.1.2) (4.0.0)\n",
      "Requirement already satisfied: pygments<3.0.0,>=2.13.0 in c:\\users\\jihwan\\anaconda3\\envs\\pythonproject\\lib\\site-packages (from rich<14.0,>=12.1->cached_path->melotts==0.1.2) (2.19.1)\n",
      "Requirement already satisfied: pyasn1>=0.1.3 in c:\\users\\jihwan\\anaconda3\\envs\\pythonproject\\lib\\site-packages (from rsa<5,>=3.1.4->google-auth<3.0dev,>=2.26.1->google-cloud-storage<3.0,>=1.32.0->cached_path->melotts==0.1.2) (0.6.1)\n",
      "Requirement already satisfied: mdurl~=0.1 in c:\\users\\jihwan\\anaconda3\\envs\\pythonproject\\lib\\site-packages (from markdown-it-py>=2.2.0->rich<14.0,>=12.1->cached_path->melotts==0.1.2) (0.1.2)\n",
      "Requirement already satisfied: wrapt<2,>=1.10 in c:\\users\\jihwan\\anaconda3\\envs\\pythonproject\\lib\\site-packages (from deprecated->pykakasi==2.2.1->melotts==0.1.2) (1.17.3)\n",
      "Collecting aiofiles<25.0,>=22.0 (from gradio->melotts==0.1.2)\n",
      "  Using cached aiofiles-24.1.0-py3-none-any.whl.metadata (10 kB)\n",
      "Requirement already satisfied: anyio<5.0,>=3.0 in c:\\users\\jihwan\\anaconda3\\envs\\pythonproject\\lib\\site-packages (from gradio->melotts==0.1.2) (4.7.0)\n",
      "Collecting brotli>=1.1.0 (from gradio->melotts==0.1.2)\n",
      "  Using cached Brotli-1.1.0-cp312-cp312-win_amd64.whl.metadata (5.6 kB)\n",
      "Collecting fastapi<1.0,>=0.115.2 (from gradio->melotts==0.1.2)\n",
      "  Using cached fastapi-0.116.1-py3-none-any.whl.metadata (28 kB)\n",
      "Collecting ffmpy (from gradio->melotts==0.1.2)\n",
      "  Using cached ffmpy-0.6.1-py3-none-any.whl.metadata (2.9 kB)\n",
      "Collecting gradio-client==1.12.1 (from gradio->melotts==0.1.2)\n",
      "  Using cached gradio_client-1.12.1-py3-none-any.whl.metadata (7.1 kB)\n",
      "Collecting groovy~=0.1 (from gradio->melotts==0.1.2)\n",
      "  Using cached groovy-0.1.2-py3-none-any.whl.metadata (6.1 kB)\n",
      "Requirement already satisfied: httpx<1.0,>=0.24.1 in c:\\users\\jihwan\\anaconda3\\envs\\pythonproject\\lib\\site-packages (from gradio->melotts==0.1.2) (0.28.1)\n",
      "Requirement already satisfied: jinja2<4.0 in c:\\users\\jihwan\\anaconda3\\envs\\pythonproject\\lib\\site-packages (from gradio->melotts==0.1.2) (3.1.6)\n",
      "Collecting orjson~=3.0 (from gradio->melotts==0.1.2)\n",
      "  Using cached orjson-3.11.3-cp312-cp312-win_amd64.whl.metadata (43 kB)\n",
      "Collecting pandas<3.0,>=1.0 (from gradio->melotts==0.1.2)\n",
      "  Using cached pandas-2.3.2-cp312-cp312-win_amd64.whl.metadata (19 kB)\n",
      "Requirement already satisfied: pillow<12.0,>=8.0 in c:\\users\\jihwan\\anaconda3\\envs\\pythonproject\\lib\\site-packages (from gradio->melotts==0.1.2) (11.3.0)\n",
      "Collecting python-multipart>=0.0.18 (from gradio->melotts==0.1.2)\n",
      "  Using cached python_multipart-0.0.20-py3-none-any.whl.metadata (1.8 kB)\n",
      "Collecting ruff>=0.9.3 (from gradio->melotts==0.1.2)\n",
      "  Using cached ruff-0.12.10-py3-none-win_amd64.whl.metadata (26 kB)\n",
      "Collecting safehttpx<0.2.0,>=0.1.6 (from gradio->melotts==0.1.2)\n",
      "  Using cached safehttpx-0.1.6-py3-none-any.whl.metadata (4.2 kB)\n",
      "Collecting semantic-version~=2.0 (from gradio->melotts==0.1.2)\n",
      "  Using cached semantic_version-2.10.0-py2.py3-none-any.whl.metadata (9.7 kB)\n",
      "Collecting starlette<1.0,>=0.40.0 (from gradio->melotts==0.1.2)\n",
      "  Using cached starlette-0.47.3-py3-none-any.whl.metadata (6.2 kB)\n",
      "Collecting tomlkit<0.14.0,>=0.12.0 (from gradio->melotts==0.1.2)\n",
      "  Using cached tomlkit-0.13.3-py3-none-any.whl.metadata (2.8 kB)\n",
      "Collecting typer<1.0,>=0.12 (from gradio->melotts==0.1.2)\n",
      "  Using cached typer-0.16.1-py3-none-any.whl.metadata (15 kB)\n",
      "Collecting uvicorn>=0.14.0 (from gradio->melotts==0.1.2)\n",
      "  Using cached uvicorn-0.35.0-py3-none-any.whl.metadata (6.5 kB)\n",
      "Collecting websockets<16.0,>=10.0 (from gradio-client==1.12.1->gradio->melotts==0.1.2)\n",
      "  Using cached websockets-15.0.1-cp312-cp312-win_amd64.whl.metadata (7.0 kB)\n",
      "Requirement already satisfied: sniffio>=1.1 in c:\\users\\jihwan\\anaconda3\\envs\\pythonproject\\lib\\site-packages (from anyio<5.0,>=3.0->gradio->melotts==0.1.2) (1.3.0)\n",
      "Requirement already satisfied: httpcore==1.* in c:\\users\\jihwan\\anaconda3\\envs\\pythonproject\\lib\\site-packages (from httpx<1.0,>=0.24.1->gradio->melotts==0.1.2) (1.0.9)\n",
      "Requirement already satisfied: h11>=0.16 in c:\\users\\jihwan\\anaconda3\\envs\\pythonproject\\lib\\site-packages (from httpcore==1.*->httpx<1.0,>=0.24.1->gradio->melotts==0.1.2) (0.16.0)\n",
      "Requirement already satisfied: tzdata>=2022.7 in c:\\users\\jihwan\\anaconda3\\envs\\pythonproject\\lib\\site-packages (from pandas<3.0,>=1.0->gradio->melotts==0.1.2) (2025.2)\n",
      "Collecting shellingham>=1.3.0 (from typer<1.0,>=0.12->gradio->melotts==0.1.2)\n",
      "  Using cached shellingham-1.5.4-py2.py3-none-any.whl.metadata (3.5 kB)\n",
      "Requirement already satisfied: sympy>=1.13.3 in c:\\users\\jihwan\\anaconda3\\envs\\pythonproject\\lib\\site-packages (from torch->melotts==0.1.2) (1.14.0)\n",
      "Requirement already satisfied: mpmath<1.4,>=1.1.0 in c:\\users\\jihwan\\anaconda3\\envs\\pythonproject\\lib\\site-packages (from sympy>=1.13.3->torch->melotts==0.1.2) (1.3.0)\n",
      "Using cached anyascii-0.3.2-py3-none-any.whl (289 kB)\n",
      "Using cached cn2an-0.5.22-py3-none-any.whl (224 kB)\n",
      "Using cached num2words-0.5.12-py3-none-any.whl (125 kB)\n",
      "Using cached inflect-7.0.0-py3-none-any.whl (34 kB)\n",
      "Using cached librosa-0.9.1-py3-none-any.whl (213 kB)\n",
      "Using cached loguru-0.7.2-py3-none-any.whl (62 kB)\n",
      "Using cached mecab_python3-1.0.9-cp312-cp312-win_amd64.whl (501 kB)\n",
      "Using cached pydub-0.25.1-py2.py3-none-any.whl (32 kB)\n",
      "Using cached pykakasi-2.2.1-py3-none-any.whl (2.4 MB)\n",
      "Using cached pypinyin-0.50.0-py2.py3-none-any.whl (1.4 MB)\n",
      "Using cached tensorboard-2.16.2-py3-none-any.whl (5.5 MB)\n",
      "Using cached transformers-4.27.4-py3-none-any.whl (6.8 MB)\n",
      "Using cached Unidecode-1.3.7-py3-none-any.whl (235 kB)\n",
      "Using cached networkx-2.8.8-py3-none-any.whl (2.0 MB)\n",
      "Using cached numpy-1.26.4-cp312-cp312-win_amd64.whl (15.5 MB)\n",
      "Using cached plac-1.4.5-py2.py3-none-any.whl (22 kB)\n",
      "Using cached tensorboard_data_server-0.7.2-py3-none-any.whl (2.4 kB)\n",
      "Using cached wasabi-0.10.1-py3-none-any.whl (26 kB)\n",
      "Using cached absl_py-2.3.1-py3-none-any.whl (135 kB)\n",
      "Using cached grpcio-1.74.0-cp312-cp312-win_amd64.whl (4.5 MB)\n",
      "Using cached markdown-3.8.2-py3-none-any.whl (106 kB)\n",
      "Using cached pydantic-2.11.7-py3-none-any.whl (444 kB)\n",
      "Using cached pydantic_core-2.33.2-cp312-cp312-win_amd64.whl (2.0 MB)\n",
      "Using cached annotated_types-0.7.0-py3-none-any.whl (13 kB)\n",
      "Using cached resampy-0.4.3-py3-none-any.whl (3.1 MB)\n",
      "Using cached typing_inspection-0.4.1-py3-none-any.whl (14 kB)\n",
      "Using cached werkzeug-3.1.3-py3-none-any.whl (224 kB)\n",
      "Using cached gradio-5.44.0-py3-none-any.whl (60.1 MB)\n",
      "Using cached gradio_client-1.12.1-py3-none-any.whl (324 kB)\n",
      "Using cached aiofiles-24.1.0-py3-none-any.whl (15 kB)\n",
      "Using cached fastapi-0.116.1-py3-none-any.whl (95 kB)\n",
      "Using cached groovy-0.1.2-py3-none-any.whl (14 kB)\n",
      "Using cached orjson-3.11.3-cp312-cp312-win_amd64.whl (131 kB)\n",
      "Using cached pandas-2.3.2-cp312-cp312-win_amd64.whl (11.0 MB)\n",
      "Using cached safehttpx-0.1.6-py3-none-any.whl (8.7 kB)\n",
      "Using cached semantic_version-2.10.0-py2.py3-none-any.whl (15 kB)\n",
      "Using cached starlette-0.47.3-py3-none-any.whl (72 kB)\n",
      "Using cached tomlkit-0.13.3-py3-none-any.whl (38 kB)\n",
      "Using cached typer-0.16.1-py3-none-any.whl (46 kB)\n",
      "Using cached websockets-15.0.1-cp312-cp312-win_amd64.whl (176 kB)\n",
      "Using cached Brotli-1.1.0-cp312-cp312-win_amd64.whl (357 kB)\n",
      "Using cached python_multipart-0.0.20-py3-none-any.whl (24 kB)\n",
      "Using cached ruff-0.12.10-py3-none-win_amd64.whl (13.0 MB)\n",
      "Using cached shellingham-1.5.4-py2.py3-none-any.whl (9.8 kB)\n",
      "Using cached uvicorn-0.35.0-py3-none-any.whl (66 kB)\n",
      "Using cached ffmpy-0.6.1-py3-none-any.whl (5.5 kB)\n",
      "Building wheels for collected packages: fugashi, tokenizers\n",
      "  Building wheel for fugashi (setup.py): started\n",
      "  Building wheel for fugashi (setup.py): finished with status 'error'\n",
      "  Running setup.py clean for fugashi\n",
      "  Building wheel for tokenizers (pyproject.toml): started\n",
      "  Building wheel for tokenizers (pyproject.toml): finished with status 'error'\n",
      "Failed to build fugashi tokenizers\n"
     ]
    },
    {
     "name": "stderr",
     "output_type": "stream",
     "text": [
      "  DEPRECATION: Building 'fugashi' using the legacy setup.py bdist_wheel mechanism, which will be removed in a future version. pip 25.3 will enforce this behaviour change. A possible replacement is to use the standardized build interface by setting the `--use-pep517` option, (possibly combined with `--no-build-isolation`), or adding a `pyproject.toml` file to the source tree of 'fugashi'. Discussion can be found at https://github.com/pypa/pip/issues/6334\n",
      "  error: subprocess-exited-with-error\n",
      "  \n",
      "  × python setup.py bdist_wheel did not run successfully.\n",
      "  │ exit code: 1\n",
      "  ╰─> [40 lines of output]\n",
      "      C:\\Users\\JiHwan\\anaconda3\\envs\\PythonProject\\Lib\\site-packages\\setuptools\\dist.py:759: SetuptoolsDeprecationWarning: License classifiers are deprecated.\n",
      "      !!\n",
      "      \n",
      "              ********************************************************************************\n",
      "              Please consider removing the following classifiers in favor of a SPDX license expression:\n",
      "      \n",
      "              License :: OSI Approved :: MIT License\n",
      "      \n",
      "              See https://packaging.python.org/en/latest/guides/writing-pyproject-toml/#license for details.\n",
      "              ********************************************************************************\n",
      "      \n",
      "      !!\n",
      "        self._finalize_license_expression()\n",
      "      C:\\Users\\JiHwan\\anaconda3\\envs\\PythonProject\\Lib\\site-packages\\setuptools\\__init__.py:92: _DeprecatedInstaller: setuptools.installer and fetch_build_eggs are deprecated.\n",
      "      !!\n",
      "      \n",
      "              ********************************************************************************\n",
      "              Requirements should be satisfied by a PEP 517 installer.\n",
      "              If you are using pip, you can try `pip install --use-pep517`.\n",
      "      \n",
      "              By 2025-Oct-31, you need to update your project and remove deprecated calls\n",
      "              or your builds will no longer be supported.\n",
      "              ********************************************************************************\n",
      "      \n",
      "      !!\n",
      "        dist.fetch_build_eggs(dist.setup_requires)\n",
      "      running bdist_wheel\n",
      "      running build\n",
      "      running build_py\n",
      "      creating build\\lib.win-amd64-cpython-312\\fugashi\n",
      "      copying fugashi\\cli.py -> build\\lib.win-amd64-cpython-312\\fugashi\n",
      "      copying fugashi\\__init__.py -> build\\lib.win-amd64-cpython-312\\fugashi\n",
      "      running build_ext\n",
      "      cythoning fugashi/fugashi.pyx to fugashi\\fugashi.c\n",
      "      building 'fugashi.fugashi' extension\n",
      "      creating build\\temp.win-amd64-cpython-312\\Release\\fugashi\n",
      "      \"C:\\Program Files\\Microsoft Visual Studio\\2022\\Community\\VC\\Tools\\MSVC\\14.37.32822\\bin\\HostX86\\x64\\cl.exe\" /c /nologo /O2 /W3 /GL /DNDEBUG /MD -IC:\\mecab -IC:\\Users\\JiHwan\\anaconda3\\envs\\PythonProject\\include -IC:\\Users\\JiHwan\\anaconda3\\envs\\PythonProject\\Include \"-IC:\\Program Files\\Microsoft Visual Studio\\2022\\Community\\VC\\Tools\\MSVC\\14.37.32822\\include\" \"-IC:\\Program Files\\Microsoft Visual Studio\\2022\\Community\\VC\\Tools\\MSVC\\14.37.32822\\ATLMFC\\include\" \"-IC:\\Program Files\\Microsoft Visual Studio\\2022\\Community\\VC\\Auxiliary\\VS\\include\" \"-IC:\\Program Files (x86)\\Windows Kits\\10\\include\\10.0.19041.0\\ucrt\" \"-IC:\\Program Files (x86)\\Windows Kits\\10\\\\include\\10.0.19041.0\\\\um\" \"-IC:\\Program Files (x86)\\Windows Kits\\10\\\\include\\10.0.19041.0\\\\shared\" \"-IC:\\Program Files (x86)\\Windows Kits\\10\\\\include\\10.0.19041.0\\\\winrt\" \"-IC:\\Program Files (x86)\\Windows Kits\\10\\\\include\\10.0.19041.0\\\\cppwinrt\" \"-IC:\\Program Files (x86)\\Windows Kits\\NETFXSDK\\4.8\\include\\um\" /Tcfugashi\\fugashi.c /Fobuild\\temp.win-amd64-cpython-312\\Release\\fugashi\\fugashi.obj\n",
      "      fugashi.c\n",
      "      fugashi\\fugashi.c(750): fatal error C1083: 포함 파일을 열 수 없습니다. 'mecab.h': No such file or directory\n",
      "      error: command 'C:\\\\Program Files\\\\Microsoft Visual Studio\\\\2022\\\\Community\\\\VC\\\\Tools\\\\MSVC\\\\14.37.32822\\\\bin\\\\HostX86\\\\x64\\\\cl.exe' failed with exit code 2\n",
      "      [end of output]\n",
      "  \n",
      "  note: This error originates from a subprocess, and is likely not a problem with pip.\n",
      "  ERROR: Failed building wheel for fugashi\n",
      "  error: subprocess-exited-with-error\n",
      "  \n",
      "  × Building wheel for tokenizers (pyproject.toml) did not run successfully.\n",
      "  │ exit code: 1\n",
      "  ╰─> [62 lines of output]\n",
      "      C:\\Users\\JiHwan\\AppData\\Local\\Temp\\pip-build-env-1ekmf37w\\overlay\\Lib\\site-packages\\setuptools\\dist.py:759: SetuptoolsDeprecationWarning: License classifiers are deprecated.\n",
      "      !!\n",
      "      \n",
      "              ********************************************************************************\n",
      "              Please consider removing the following classifiers in favor of a SPDX license expression:\n",
      "      \n",
      "              License :: OSI Approved :: Apache Software License\n",
      "      \n",
      "              See https://packaging.python.org/en/latest/guides/writing-pyproject-toml/#license for details.\n",
      "              ********************************************************************************\n",
      "      \n",
      "      !!\n",
      "        self._finalize_license_expression()\n",
      "      running bdist_wheel\n",
      "      running build\n",
      "      running build_py\n",
      "      creating build\\lib.win-amd64-cpython-312\\tokenizers\n",
      "      copying py_src\\tokenizers\\__init__.py -> build\\lib.win-amd64-cpython-312\\tokenizers\n",
      "      creating build\\lib.win-amd64-cpython-312\\tokenizers\\models\n",
      "      copying py_src\\tokenizers\\models\\__init__.py -> build\\lib.win-amd64-cpython-312\\tokenizers\\models\n",
      "      creating build\\lib.win-amd64-cpython-312\\tokenizers\\decoders\n",
      "      copying py_src\\tokenizers\\decoders\\__init__.py -> build\\lib.win-amd64-cpython-312\\tokenizers\\decoders\n",
      "      creating build\\lib.win-amd64-cpython-312\\tokenizers\\normalizers\n",
      "      copying py_src\\tokenizers\\normalizers\\__init__.py -> build\\lib.win-amd64-cpython-312\\tokenizers\\normalizers\n",
      "      creating build\\lib.win-amd64-cpython-312\\tokenizers\\pre_tokenizers\n",
      "      copying py_src\\tokenizers\\pre_tokenizers\\__init__.py -> build\\lib.win-amd64-cpython-312\\tokenizers\\pre_tokenizers\n",
      "      creating build\\lib.win-amd64-cpython-312\\tokenizers\\processors\n",
      "      copying py_src\\tokenizers\\processors\\__init__.py -> build\\lib.win-amd64-cpython-312\\tokenizers\\processors\n",
      "      creating build\\lib.win-amd64-cpython-312\\tokenizers\\trainers\n",
      "      copying py_src\\tokenizers\\trainers\\__init__.py -> build\\lib.win-amd64-cpython-312\\tokenizers\\trainers\n",
      "      creating build\\lib.win-amd64-cpython-312\\tokenizers\\implementations\n",
      "      copying py_src\\tokenizers\\implementations\\base_tokenizer.py -> build\\lib.win-amd64-cpython-312\\tokenizers\\implementations\n",
      "      copying py_src\\tokenizers\\implementations\\bert_wordpiece.py -> build\\lib.win-amd64-cpython-312\\tokenizers\\implementations\n",
      "      copying py_src\\tokenizers\\implementations\\byte_level_bpe.py -> build\\lib.win-amd64-cpython-312\\tokenizers\\implementations\n",
      "      copying py_src\\tokenizers\\implementations\\char_level_bpe.py -> build\\lib.win-amd64-cpython-312\\tokenizers\\implementations\n",
      "      copying py_src\\tokenizers\\implementations\\sentencepiece_bpe.py -> build\\lib.win-amd64-cpython-312\\tokenizers\\implementations\n",
      "      copying py_src\\tokenizers\\implementations\\sentencepiece_unigram.py -> build\\lib.win-amd64-cpython-312\\tokenizers\\implementations\n",
      "      copying py_src\\tokenizers\\implementations\\__init__.py -> build\\lib.win-amd64-cpython-312\\tokenizers\\implementations\n",
      "      creating build\\lib.win-amd64-cpython-312\\tokenizers\\tools\n",
      "      copying py_src\\tokenizers\\tools\\visualizer.py -> build\\lib.win-amd64-cpython-312\\tokenizers\\tools\n",
      "      copying py_src\\tokenizers\\tools\\__init__.py -> build\\lib.win-amd64-cpython-312\\tokenizers\\tools\n",
      "      copying py_src\\tokenizers\\__init__.pyi -> build\\lib.win-amd64-cpython-312\\tokenizers\n",
      "      copying py_src\\tokenizers\\models\\__init__.pyi -> build\\lib.win-amd64-cpython-312\\tokenizers\\models\n",
      "      copying py_src\\tokenizers\\decoders\\__init__.pyi -> build\\lib.win-amd64-cpython-312\\tokenizers\\decoders\n",
      "      copying py_src\\tokenizers\\normalizers\\__init__.pyi -> build\\lib.win-amd64-cpython-312\\tokenizers\\normalizers\n",
      "      copying py_src\\tokenizers\\pre_tokenizers\\__init__.pyi -> build\\lib.win-amd64-cpython-312\\tokenizers\\pre_tokenizers\n",
      "      copying py_src\\tokenizers\\processors\\__init__.pyi -> build\\lib.win-amd64-cpython-312\\tokenizers\\processors\n",
      "      copying py_src\\tokenizers\\trainers\\__init__.pyi -> build\\lib.win-amd64-cpython-312\\tokenizers\\trainers\n",
      "      copying py_src\\tokenizers\\tools\\visualizer-styles.css -> build\\lib.win-amd64-cpython-312\\tokenizers\\tools\n",
      "      running build_ext\n",
      "      running build_rust\n",
      "      error: can't find Rust compiler\n",
      "      \n",
      "      If you are using an outdated pip version, it is possible a prebuilt wheel is available for this package but pip is not able to install from it. Installing from the wheel would avoid the need for a Rust compiler.\n",
      "      \n",
      "      To update pip, run:\n",
      "      \n",
      "          pip install --upgrade pip\n",
      "      \n",
      "      and then retry package installation.\n",
      "      \n",
      "      If you did intend to build this package from source, try installing a Rust compiler from your system package manager and ensure it is on the PATH during installation. Alternatively, rustup (available at https://rustup.rs) is the recommended way to download and update the Rust compiler toolchain.\n",
      "      [end of output]\n",
      "  \n",
      "  note: This error originates from a subprocess, and is likely not a problem with pip.\n",
      "  ERROR: Failed building wheel for tokenizers\n",
      "error: failed-wheel-build-for-install\n",
      "\n",
      "× Failed to build installable wheels for some pyproject.toml based projects\n",
      "╰─> fugashi, tokenizers\n"
     ]
    }
   ],
   "execution_count": 7
  },
  {
   "metadata": {
    "ExecuteTime": {
     "end_time": "2025-08-28T01:48:41.388671Z",
     "start_time": "2025-08-28T01:48:41.273341Z"
    }
   },
   "cell_type": "code",
   "source": "!python train.py \\ --config configs/base.yaml \\ --exp_name myvoice \\ --data_dir ./dataset",
   "id": "c1ebe5fac5b5a91e",
   "outputs": [
    {
     "name": "stderr",
     "output_type": "stream",
     "text": [
      "python: can't open file 'C:\\\\Users\\\\JiHwan\\\\PycharmProjects\\\\PythonProject\\\\MeloTTS\\\\train.py': [Errno 2] No such file or directory\n"
     ]
    }
   ],
   "execution_count": 8
  },
  {
   "metadata": {
    "ExecuteTime": {
     "end_time": "2025-08-28T01:57:24.257732Z",
     "start_time": "2025-08-28T01:57:24.255258Z"
    }
   },
   "cell_type": "code",
   "source": "",
   "id": "50fe6aa1290781e",
   "outputs": [],
   "execution_count": null
  },
  {
   "metadata": {
    "ExecuteTime": {
     "end_time": "2025-08-29T00:24:00.137444Z",
     "start_time": "2025-08-29T00:23:58.483594Z"
    }
   },
   "cell_type": "code",
   "source": [
    "import sys, subprocess\n",
    "def pipi(*pkgs): subprocess.check_call([sys.executable, \"-m\", \"pip\", \"install\", \"-U\", *pkgs])\n",
    "pipi(\"librosa\",\"soundfile\",\"webrtcvad-wheels\",\"openai-whisper\",\"pandas\",\"huggingface_hub\")"
   ],
   "id": "a5fb7b44ce32ffb9",
   "outputs": [],
   "execution_count": 2
  },
  {
   "metadata": {
    "ExecuteTime": {
     "end_time": "2025-08-29T02:45:13.665099Z",
     "start_time": "2025-08-29T02:45:13.646125Z"
    }
   },
   "cell_type": "code",
   "source": [
    "# ==== 공통 유틸 ====\n",
    "from pathlib import Path\n",
    "import os, sys, subprocess\n",
    "\n",
    "def P(p) -> Path:\n",
    "    \"\"\"무조건 Path 객체로 변환\"\"\"\n",
    "    return p if isinstance(p, Path) else Path(p)\n",
    "\n",
    "def S(p) -> str:\n",
    "    \"\"\"항상 절대경로 문자열로 변환 (서브프로세스/외부라이브러리용)\"\"\"\n",
    "    return os.fspath(P(p).resolve())\n",
    "\n",
    "# ==== 기본 경로 ====\n",
    "ROOT = P(r\"C:\\Users\\JiHwan\\PycharmProjects\\PythonProject\")  # ← 필요시 수정\n",
    "DATA = ROOT / \"data_melo\"           # 세그먼트/메타데이터 저장\n",
    "EXP  = ROOT / \"exp_myvoice\"         # 학습 설정/체크포인트 저장\n",
    "MELO = ROOT / \"MeloTTS\"             # MeloTTS 레포 루트\n",
    "\n",
    "for p in [ROOT, DATA, DATA/\"wavs\", EXP, MELO]:\n",
    "    p.mkdir(parents=True, exist_ok=True)\n",
    "\n",
    "print(\"ROOT:\", S(ROOT))\n",
    "print(\"DATA:\", S(DATA))\n",
    "print(\"EXP :\", S(EXP))\n",
    "print(\"MELO:\", S(MELO))\n"
   ],
   "id": "68b25aeeaadf1c67",
   "outputs": [
    {
     "name": "stdout",
     "output_type": "stream",
     "text": [
      "ROOT: C:\\Users\\JiHwan\\PycharmProjects\\PythonProject\n",
      "DATA: C:\\Users\\JiHwan\\PycharmProjects\\PythonProject\\data_melo\n",
      "EXP : C:\\Users\\JiHwan\\PycharmProjects\\PythonProject\\exp_myvoice\n",
      "MELO: C:\\Users\\JiHwan\\PycharmProjects\\PythonProject\\MeloTTS\n"
     ]
    }
   ],
   "execution_count": 5
  },
  {
   "metadata": {
    "ExecuteTime": {
     "end_time": "2025-08-29T02:45:22.147752Z",
     "start_time": "2025-08-29T02:45:15.477911Z"
    }
   },
   "cell_type": "code",
   "source": [
    "import librosa, soundfile as sf\n",
    "\n",
    "# ★ 여기만 너의 정확 파일명으로 바꿔줘 (raw string 권장)\n",
    "src_audio = P(r\"[사골 김치찌개] 김치CEO 홍진경이 처음 공개하는 김치찌개 레시피 (+오이지,.mp3\")\n",
    "assert src_audio.exists(), f\"{src_audio} 파일을 찾을 수 없어요.\"\n",
    "\n",
    "y, sr = librosa.load(S(src_audio), sr=24000, mono=True)\n",
    "sf.write(S(ROOT/\"voice_24k.wav\"), y, 24000)\n",
    "print(\"표준화 완료 →\", S(ROOT/\"voice_24k.wav\"))\n"
   ],
   "id": "d32b429640fafd32",
   "outputs": [
    {
     "name": "stdout",
     "output_type": "stream",
     "text": [
      "표준화 완료 → C:\\Users\\JiHwan\\PycharmProjects\\PythonProject\\voice_24k.wav\n"
     ]
    }
   ],
   "execution_count": 6
  },
  {
   "metadata": {
    "ExecuteTime": {
     "end_time": "2025-08-29T02:45:27.285171Z",
     "start_time": "2025-08-29T02:45:26.316877Z"
    }
   },
   "cell_type": "code",
   "source": [
    "import numpy as np, librosa, soundfile as sf, webrtcvad\n",
    "from scipy.signal import resample_poly  # librosa.resample보다 빠르고 왜곡 적음\n",
    "\n",
    "SRC_IN   = ROOT / \"voice_24k.wav\"\n",
    "SR_IN    = 24000\n",
    "SR_VAD   = 16000\n",
    "FRAME_MS = 20          # ← 30 → 20ms\n",
    "VAD_MODE = 1           # ← 2 → 1 (필요시 0)\n",
    "PAD_SEC  = 0.5         # ← 0.2 → 0.5s\n",
    "MIN_DUR  = 1.5         # ← 2.0 → 1.5s\n",
    "MAX_DUR  = 12.0        # ← 10.0 → 12.0s\n",
    "SR_OUT   = 24000\n",
    "\n",
    "# 1) 로드 & 16k 변환\n",
    "y24, _ = librosa.load(S(SRC_IN), sr=SR_IN, mono=True)\n",
    "# 고품질 리샘플 (24k→16k): resample_poly( up=2, down=3 ) == 24k *2/3 = 16k\n",
    "y16 = resample_poly(y24, 2, 3)\n",
    "\n",
    "# 2) VAD 프레임링\n",
    "vad = webrtcvad.Vad(VAD_MODE)\n",
    "frame_len = SR_VAD * FRAME_MS // 1000\n",
    "pad_frames = int(round(PAD_SEC * 1000 / FRAME_MS))\n",
    "\n",
    "segments16, cur = [], []\n",
    "hang = 0\n",
    "\n",
    "def flush():\n",
    "    if cur:\n",
    "        segments16.append(np.concatenate(cur))\n",
    "        cur.clear()\n",
    "\n",
    "# 3) 스캔\n",
    "for i in range(0, len(y16) - frame_len + 1, frame_len):\n",
    "    fr = y16[i:i+frame_len]\n",
    "    # int16 변환\n",
    "    pcm16 = np.clip(fr * 32767, -32768, 32767).astype(np.int16).tobytes()\n",
    "    if vad.is_speech(pcm16, sample_rate=SR_VAD):\n",
    "        cur.append(fr); hang = pad_frames\n",
    "    else:\n",
    "        if hang > 0:\n",
    "            cur.append(fr); hang -= 1\n",
    "        else:\n",
    "            flush()\n",
    "flush()\n",
    "\n",
    "# 4) 길이 필터 + 너무 긴 세그 자동 분할\n",
    "def chop(seg, sr, max_dur):\n",
    "    max_len = int(max_dur * sr)\n",
    "    if len(seg) <= max_len:\n",
    "        return [seg]\n",
    "    out = []\n",
    "    st = 0\n",
    "    while st < len(seg):\n",
    "        ed = min(st + max_len, len(seg))\n",
    "        out.append(seg[st:ed])\n",
    "        st = ed\n",
    "    return out\n",
    "\n",
    "paths = []\n",
    "for i, seg16 in enumerate(segments16, 1):\n",
    "    # MAX_DUR 초과는 분할\n",
    "    for piece16 in chop(seg16, SR_VAD, MAX_DUR):\n",
    "        dur = len(piece16) / SR_VAD\n",
    "        if dur < MIN_DUR:   # 너무 짧은 건 스킵\n",
    "            continue\n",
    "        # 16k→24k 복원 (필요 없으면 그냥 16k로 저장)\n",
    "        seg24 = resample_poly(piece16, 3, 2)  # 16k *3/2 = 24k\n",
    "        fn = DATA/\"wavs\"/f\"{len(paths)+1:04d}.wav\"\n",
    "        sf.write(S(fn), seg24, SR_OUT)\n",
    "        paths.append(S(fn))\n",
    "\n",
    "print(\"세그먼트 저장(24k):\", len(paths))\n"
   ],
   "id": "8d6a6d32ea3a056c",
   "outputs": [
    {
     "name": "stdout",
     "output_type": "stream",
     "text": [
      "세그먼트 저장(24k): 45\n"
     ]
    }
   ],
   "execution_count": 7
  },
  {
   "metadata": {
    "ExecuteTime": {
     "end_time": "2025-08-29T00:29:26.735946Z",
     "start_time": "2025-08-29T00:29:26.728703Z"
    }
   },
   "cell_type": "code",
   "source": [
    "import soundfile as sf\n",
    "info = sf.info(S(SRC_IN))\n",
    "print(\"원본 길이(초):\", info.duration)\n"
   ],
   "id": "e7da2f64a9abc21f",
   "outputs": [
    {
     "name": "stdout",
     "output_type": "stream",
     "text": [
      "원본 길이(초): 507.9132916666667\n"
     ]
    }
   ],
   "execution_count": 6
  },
  {
   "metadata": {
    "ExecuteTime": {
     "end_time": "2025-08-29T02:50:12.763881Z",
     "start_time": "2025-08-29T02:50:11.323263Z"
    }
   },
   "cell_type": "code",
   "source": "!pip install tensorflow-gpu",
   "id": "6cd38bbb2792608e",
   "outputs": [
    {
     "name": "stdout",
     "output_type": "stream",
     "text": [
      "Collecting tensorflow-gpu\n",
      "  Using cached tensorflow-gpu-2.12.0.tar.gz (2.6 kB)\n",
      "  Preparing metadata (setup.py): started\n",
      "  Preparing metadata (setup.py): finished with status 'error'\n"
     ]
    },
    {
     "name": "stderr",
     "output_type": "stream",
     "text": [
      "  error: subprocess-exited-with-error\n",
      "  \n",
      "  × python setup.py egg_info did not run successfully.\n",
      "  │ exit code: 1\n",
      "  ╰─> [44 lines of output]\n",
      "      Traceback (most recent call last):\n",
      "        File \"C:\\Users\\JiHwan\\anaconda3\\envs\\PythonProject\\Lib\\site-packages\\packaging\\requirements.py\", line 36, in __init__\n",
      "          parsed = _parse_requirement(requirement_string)\n",
      "                   ^^^^^^^^^^^^^^^^^^^^^^^^^^^^^^^^^^^^^^\n",
      "        File \"C:\\Users\\JiHwan\\anaconda3\\envs\\PythonProject\\Lib\\site-packages\\packaging\\_parser.py\", line 62, in parse_requirement\n",
      "          return _parse_requirement(Tokenizer(source, rules=DEFAULT_RULES))\n",
      "                 ^^^^^^^^^^^^^^^^^^^^^^^^^^^^^^^^^^^^^^^^^^^^^^^^^^^^^^^^^^\n",
      "        File \"C:\\Users\\JiHwan\\anaconda3\\envs\\PythonProject\\Lib\\site-packages\\packaging\\_parser.py\", line 80, in _parse_requirement\n",
      "          url, specifier, marker = _parse_requirement_details(tokenizer)\n",
      "                                   ^^^^^^^^^^^^^^^^^^^^^^^^^^^^^^^^^^^^^\n",
      "        File \"C:\\Users\\JiHwan\\anaconda3\\envs\\PythonProject\\Lib\\site-packages\\packaging\\_parser.py\", line 124, in _parse_requirement_details\n",
      "          marker = _parse_requirement_marker(\n",
      "                   ^^^^^^^^^^^^^^^^^^^^^^^^^^\n",
      "        File \"C:\\Users\\JiHwan\\anaconda3\\envs\\PythonProject\\Lib\\site-packages\\packaging\\_parser.py\", line 145, in _parse_requirement_marker\n",
      "          tokenizer.raise_syntax_error(\n",
      "        File \"C:\\Users\\JiHwan\\anaconda3\\envs\\PythonProject\\Lib\\site-packages\\packaging\\_tokenizer.py\", line 168, in raise_syntax_error\n",
      "          raise ParserSyntaxError(\n",
      "      packaging._tokenizer.ParserSyntaxError: Expected end or semicolon (after name and no valid version specifier)\n",
      "          python_version>\"3.7\"\n",
      "                        ^\n",
      "      \n",
      "      The above exception was the direct cause of the following exception:\n",
      "      \n",
      "      Traceback (most recent call last):\n",
      "        File \"<string>\", line 2, in <module>\n",
      "        File \"<pip-setuptools-caller>\", line 35, in <module>\n",
      "        File \"C:\\Users\\JiHwan\\AppData\\Local\\Temp\\pip-install-1l4h_cv3\\tensorflow-gpu_e6ef73c6c53e4b758cc6bdfb8f60225c\\setup.py\", line 40, in <module>\n",
      "          setuptools.setup()\n",
      "        File \"C:\\Users\\JiHwan\\anaconda3\\envs\\PythonProject\\Lib\\site-packages\\setuptools\\__init__.py\", line 114, in setup\n",
      "          _install_setup_requires(attrs)\n",
      "        File \"C:\\Users\\JiHwan\\anaconda3\\envs\\PythonProject\\Lib\\site-packages\\setuptools\\__init__.py\", line 85, in _install_setup_requires\n",
      "          dist.parse_config_files(ignore_option_errors=True)\n",
      "        File \"C:\\Users\\JiHwan\\anaconda3\\envs\\PythonProject\\Lib\\site-packages\\setuptools\\dist.py\", line 758, in parse_config_files\n",
      "          self._finalize_requires()\n",
      "        File \"C:\\Users\\JiHwan\\anaconda3\\envs\\PythonProject\\Lib\\site-packages\\setuptools\\dist.py\", line 382, in _finalize_requires\n",
      "          self._normalize_requires()\n",
      "        File \"C:\\Users\\JiHwan\\anaconda3\\envs\\PythonProject\\Lib\\site-packages\\setuptools\\dist.py\", line 400, in _normalize_requires\n",
      "          self.install_requires = list_(map(str, _reqs.parse(install_requires)))\n",
      "                                  ^^^^^^^^^^^^^^^^^^^^^^^^^^^^^^^^^^^^^^^^^^^^^^\n",
      "        File \"C:\\Users\\JiHwan\\anaconda3\\envs\\PythonProject\\Lib\\site-packages\\packaging\\requirements.py\", line 38, in __init__\n",
      "          raise InvalidRequirement(str(e)) from e\n",
      "      packaging.requirements.InvalidRequirement: Expected end or semicolon (after name and no valid version specifier)\n",
      "          python_version>\"3.7\"\n",
      "                        ^\n",
      "      [end of output]\n",
      "  \n",
      "  note: This error originates from a subprocess, and is likely not a problem with pip.\n",
      "error: metadata-generation-failed\n",
      "\n",
      "× Encountered error while generating package metadata.\n",
      "╰─> See above for output.\n",
      "\n",
      "note: This is an issue with the package mentioned above, not pip.\n",
      "hint: See above for details.\n"
     ]
    }
   ],
   "execution_count": 34
  },
  {
   "metadata": {
    "ExecuteTime": {
     "end_time": "2025-08-29T02:50:16.010883Z",
     "start_time": "2025-08-29T02:50:16.006338Z"
    }
   },
   "cell_type": "code",
   "source": [
    "import torch\n",
    "\n",
    "if torch.cuda.is_available():\n",
    "    print(\"CUDA가 다시 돌아왔습니다!\")\n",
    "    print(f\"사용 가능한 GPU 개수: {torch.cuda.device_count()}\")\n",
    "else:\n",
    "    print(\"아직 CUDA를 사용할 수 없습니다. ㅠㅠ\")"
   ],
   "id": "d391cddc4d1d2f58",
   "outputs": [
    {
     "name": "stdout",
     "output_type": "stream",
     "text": [
      "아직 CUDA를 사용할 수 없습니다. ㅠㅠ\n"
     ]
    }
   ],
   "execution_count": 35
  },
  {
   "metadata": {
    "ExecuteTime": {
     "end_time": "2025-08-29T02:45:51.167361Z",
     "start_time": "2025-08-29T02:45:51.160925Z"
    }
   },
   "cell_type": "code",
   "source": [
    "# GPU 확인\n",
    "import sys, torch, shutil, os\n",
    "print(\"Python:\", sys.executable)\n",
    "print(\"CUDA available:\", torch.cuda.is_available())\n",
    "print(\"torch version:\", torch.__version__)\n",
    "print(\"CUDA in torch (build):\", torch.version.cuda)\n",
    "print(\"ffmpeg:\", shutil.which(\"ffmpeg\"))\n",
    "print(sys.executable)\n",
    "\n"
   ],
   "id": "bf21aa84b09b1a80",
   "outputs": [
    {
     "name": "stdout",
     "output_type": "stream",
     "text": [
      "Python: C:\\Users\\JiHwan\\anaconda3\\envs\\PythonProject\\python.exe\n",
      "CUDA available: False\n",
      "torch version: 2.8.0+cpu\n",
      "CUDA in torch (build): None\n",
      "ffmpeg: C:\\Users\\JiHwan\\anaconda3\\envs\\PythonProject\\Library\\bin\\ffmpeg.EXE\n",
      "C:\\Users\\JiHwan\\anaconda3\\envs\\PythonProject\\python.exe\n"
     ]
    }
   ],
   "execution_count": 14
  },
  {
   "metadata": {
    "ExecuteTime": {
     "end_time": "2025-08-29T02:47:15.395599Z",
     "start_time": "2025-08-29T02:47:15.391625Z"
    }
   },
   "cell_type": "code",
   "source": [
    "device = torch.device('cuda' if torch.cuda.is_available() else 'cpu')\n",
    "device"
   ],
   "id": "fc815e9bebe27e6d",
   "outputs": [
    {
     "data": {
      "text/plain": [
       "device(type='cpu')"
      ]
     },
     "execution_count": 28,
     "metadata": {},
     "output_type": "execute_result"
    }
   ],
   "execution_count": 28
  },
  {
   "metadata": {
    "ExecuteTime": {
     "end_time": "2025-08-29T02:50:18.122989Z",
     "start_time": "2025-08-29T02:50:18.082256Z"
    }
   },
   "cell_type": "code",
   "source": "!nvcc --version",
   "id": "35c06b3704766b68",
   "outputs": [
    {
     "name": "stderr",
     "output_type": "stream",
     "text": [
      "'nvcc' is not recognized as an internal or external command,\n",
      "operable program or batch file.\n"
     ]
    }
   ],
   "execution_count": 36
  },
  {
   "metadata": {
    "ExecuteTime": {
     "end_time": "2025-08-29T00:33:17.031187Z",
     "start_time": "2025-08-29T00:31:08.341700Z"
    }
   },
   "cell_type": "code",
   "source": [
    "import os, math, pandas as pd, whisper, torch\n",
    "\n",
    "device = \"cuda\" if torch.cuda.is_available() else \"cpu\"\n",
    "asr = whisper.load_model(\"small\").to(device)\n",
    "print(\"ASR device:\", device)\n",
    "\n",
    "rows = []\n",
    "for fp in paths:\n",
    "    res = asr.transcribe(fp, language=\"ko\")\n",
    "    text = res[\"text\"].strip()\n",
    "    utt_id = os.path.basename(fp).replace(\".wav\",\"\")\n",
    "    rows.append((utt_id, text))\n",
    "\n",
    "df = pd.DataFrame(rows, columns=[\"utt_id\",\"text\"])\n",
    "display(df.head())\n",
    "\n",
    "val_n = max(1, math.floor(len(df)*0.1))\n",
    "df_val = df.sample(val_n, random_state=42)\n",
    "df_tr  = df.drop(df_val.index)\n",
    "\n",
    "df_tr[[\"utt_id\",\"text\"]].to_csv(S(DATA/\"metadata.csv\"),      index=False, header=False, sep=\"|\", encoding=\"utf-8\")\n",
    "df_val[[\"utt_id\",\"text\"]].to_csv(S(DATA/\"metadata_val.csv\"), index=False, header=False, sep=\"|\", encoding=\"utf-8\")\n",
    "\n",
    "print(\"Train/Val:\", len(df_tr), len(df_val))\n",
    "print(\"metadata.csv:\",      S(DATA/\"metadata.csv\"))\n",
    "print(\"metadata_val.csv:\",  S(DATA/\"metadata_val.csv\"))\n"
   ],
   "id": "5b13e0d21a0bf3e4",
   "outputs": [
    {
     "name": "stderr",
     "output_type": "stream",
     "text": [
      "100%|███████████████████████████████████████| 461M/461M [00:10<00:00, 48.1MiB/s]\n"
     ]
    },
    {
     "name": "stdout",
     "output_type": "stream",
     "text": [
      "ASR device: cpu\n"
     ]
    },
    {
     "name": "stderr",
     "output_type": "stream",
     "text": [
      "C:\\Users\\JiHwan\\anaconda3\\envs\\PythonProject\\Lib\\site-packages\\whisper\\transcribe.py:132: UserWarning: FP16 is not supported on CPU; using FP32 instead\n",
      "  warnings.warn(\"FP16 is not supported on CPU; using FP32 instead\")\n"
     ]
    },
    {
     "ename": "KeyboardInterrupt",
     "evalue": "",
     "output_type": "error",
     "traceback": [
      "\u001B[31m---------------------------------------------------------------------------\u001B[39m",
      "\u001B[31mKeyboardInterrupt\u001B[39m                         Traceback (most recent call last)",
      "\u001B[36mCell\u001B[39m\u001B[36m \u001B[39m\u001B[32mIn[11]\u001B[39m\u001B[32m, line 9\u001B[39m\n\u001B[32m      7\u001B[39m rows = []\n\u001B[32m      8\u001B[39m \u001B[38;5;28;01mfor\u001B[39;00m fp \u001B[38;5;129;01min\u001B[39;00m paths:\n\u001B[32m----> \u001B[39m\u001B[32m9\u001B[39m     res = asr.transcribe(fp, language=\u001B[33m\"\u001B[39m\u001B[33mko\u001B[39m\u001B[33m\"\u001B[39m)\n\u001B[32m     10\u001B[39m     text = res[\u001B[33m\"\u001B[39m\u001B[33mtext\u001B[39m\u001B[33m\"\u001B[39m].strip()\n\u001B[32m     11\u001B[39m     utt_id = os.path.basename(fp).replace(\u001B[33m\"\u001B[39m\u001B[33m.wav\u001B[39m\u001B[33m\"\u001B[39m,\u001B[33m\"\u001B[39m\u001B[33m\"\u001B[39m)\n",
      "\u001B[36mFile \u001B[39m\u001B[32m~\\anaconda3\\envs\\PythonProject\\Lib\\site-packages\\whisper\\transcribe.py:295\u001B[39m, in \u001B[36mtranscribe\u001B[39m\u001B[34m(model, audio, verbose, temperature, compression_ratio_threshold, logprob_threshold, no_speech_threshold, condition_on_previous_text, initial_prompt, carry_initial_prompt, word_timestamps, prepend_punctuations, append_punctuations, clip_timestamps, hallucination_silence_threshold, **decode_options)\u001B[39m\n\u001B[32m    292\u001B[39m \u001B[38;5;28;01melse\u001B[39;00m:\n\u001B[32m    293\u001B[39m     decode_options[\u001B[33m\"\u001B[39m\u001B[33mprompt\u001B[39m\u001B[33m\"\u001B[39m] = all_tokens[prompt_reset_since:]\n\u001B[32m--> \u001B[39m\u001B[32m295\u001B[39m result: DecodingResult = decode_with_fallback(mel_segment)\n\u001B[32m    296\u001B[39m tokens = torch.tensor(result.tokens)\n\u001B[32m    298\u001B[39m \u001B[38;5;28;01mif\u001B[39;00m no_speech_threshold \u001B[38;5;129;01mis\u001B[39;00m \u001B[38;5;129;01mnot\u001B[39;00m \u001B[38;5;28;01mNone\u001B[39;00m:\n\u001B[32m    299\u001B[39m     \u001B[38;5;66;03m# no voice activity check\u001B[39;00m\n",
      "\u001B[36mFile \u001B[39m\u001B[32m~\\anaconda3\\envs\\PythonProject\\Lib\\site-packages\\whisper\\transcribe.py:201\u001B[39m, in \u001B[36mtranscribe.<locals>.decode_with_fallback\u001B[39m\u001B[34m(segment)\u001B[39m\n\u001B[32m    198\u001B[39m     kwargs.pop(\u001B[33m\"\u001B[39m\u001B[33mbest_of\u001B[39m\u001B[33m\"\u001B[39m, \u001B[38;5;28;01mNone\u001B[39;00m)\n\u001B[32m    200\u001B[39m options = DecodingOptions(**kwargs, temperature=t)\n\u001B[32m--> \u001B[39m\u001B[32m201\u001B[39m decode_result = model.decode(segment, options)\n\u001B[32m    203\u001B[39m needs_fallback = \u001B[38;5;28;01mFalse\u001B[39;00m\n\u001B[32m    204\u001B[39m \u001B[38;5;28;01mif\u001B[39;00m (\n\u001B[32m    205\u001B[39m     compression_ratio_threshold \u001B[38;5;129;01mis\u001B[39;00m \u001B[38;5;129;01mnot\u001B[39;00m \u001B[38;5;28;01mNone\u001B[39;00m\n\u001B[32m    206\u001B[39m     \u001B[38;5;129;01mand\u001B[39;00m decode_result.compression_ratio > compression_ratio_threshold\n\u001B[32m    207\u001B[39m ):\n",
      "\u001B[36mFile \u001B[39m\u001B[32m~\\anaconda3\\envs\\PythonProject\\Lib\\site-packages\\torch\\utils\\_contextlib.py:120\u001B[39m, in \u001B[36mcontext_decorator.<locals>.decorate_context\u001B[39m\u001B[34m(*args, **kwargs)\u001B[39m\n\u001B[32m    117\u001B[39m \u001B[38;5;129m@functools\u001B[39m.wraps(func)\n\u001B[32m    118\u001B[39m \u001B[38;5;28;01mdef\u001B[39;00m\u001B[38;5;250m \u001B[39m\u001B[34mdecorate_context\u001B[39m(*args, **kwargs):\n\u001B[32m    119\u001B[39m     \u001B[38;5;28;01mwith\u001B[39;00m ctx_factory():\n\u001B[32m--> \u001B[39m\u001B[32m120\u001B[39m         \u001B[38;5;28;01mreturn\u001B[39;00m func(*args, **kwargs)\n",
      "\u001B[36mFile \u001B[39m\u001B[32m~\\anaconda3\\envs\\PythonProject\\Lib\\site-packages\\whisper\\decoding.py:824\u001B[39m, in \u001B[36mdecode\u001B[39m\u001B[34m(model, mel, options, **kwargs)\u001B[39m\n\u001B[32m    821\u001B[39m \u001B[38;5;28;01mif\u001B[39;00m kwargs:\n\u001B[32m    822\u001B[39m     options = replace(options, **kwargs)\n\u001B[32m--> \u001B[39m\u001B[32m824\u001B[39m result = DecodingTask(model, options).run(mel)\n\u001B[32m    826\u001B[39m \u001B[38;5;28;01mreturn\u001B[39;00m result[\u001B[32m0\u001B[39m] \u001B[38;5;28;01mif\u001B[39;00m single \u001B[38;5;28;01melse\u001B[39;00m result\n",
      "\u001B[36mFile \u001B[39m\u001B[32m~\\anaconda3\\envs\\PythonProject\\Lib\\site-packages\\torch\\utils\\_contextlib.py:120\u001B[39m, in \u001B[36mcontext_decorator.<locals>.decorate_context\u001B[39m\u001B[34m(*args, **kwargs)\u001B[39m\n\u001B[32m    117\u001B[39m \u001B[38;5;129m@functools\u001B[39m.wraps(func)\n\u001B[32m    118\u001B[39m \u001B[38;5;28;01mdef\u001B[39;00m\u001B[38;5;250m \u001B[39m\u001B[34mdecorate_context\u001B[39m(*args, **kwargs):\n\u001B[32m    119\u001B[39m     \u001B[38;5;28;01mwith\u001B[39;00m ctx_factory():\n\u001B[32m--> \u001B[39m\u001B[32m120\u001B[39m         \u001B[38;5;28;01mreturn\u001B[39;00m func(*args, **kwargs)\n",
      "\u001B[36mFile \u001B[39m\u001B[32m~\\anaconda3\\envs\\PythonProject\\Lib\\site-packages\\whisper\\decoding.py:737\u001B[39m, in \u001B[36mDecodingTask.run\u001B[39m\u001B[34m(self, mel)\u001B[39m\n\u001B[32m    734\u001B[39m tokens = tokens.repeat_interleave(\u001B[38;5;28mself\u001B[39m.n_group, dim=\u001B[32m0\u001B[39m).to(audio_features.device)\n\u001B[32m    736\u001B[39m \u001B[38;5;66;03m# call the main sampling loop\u001B[39;00m\n\u001B[32m--> \u001B[39m\u001B[32m737\u001B[39m tokens, sum_logprobs, no_speech_probs = \u001B[38;5;28mself\u001B[39m._main_loop(audio_features, tokens)\n\u001B[32m    739\u001B[39m \u001B[38;5;66;03m# reshape the tensors to have (n_audio, n_group) as the first two dimensions\u001B[39;00m\n\u001B[32m    740\u001B[39m audio_features = audio_features[:: \u001B[38;5;28mself\u001B[39m.n_group]\n",
      "\u001B[36mFile \u001B[39m\u001B[32m~\\anaconda3\\envs\\PythonProject\\Lib\\site-packages\\whisper\\decoding.py:687\u001B[39m, in \u001B[36mDecodingTask._main_loop\u001B[39m\u001B[34m(self, audio_features, tokens)\u001B[39m\n\u001B[32m    685\u001B[39m \u001B[38;5;28;01mtry\u001B[39;00m:\n\u001B[32m    686\u001B[39m     \u001B[38;5;28;01mfor\u001B[39;00m i \u001B[38;5;129;01min\u001B[39;00m \u001B[38;5;28mrange\u001B[39m(\u001B[38;5;28mself\u001B[39m.sample_len):\n\u001B[32m--> \u001B[39m\u001B[32m687\u001B[39m         logits = \u001B[38;5;28mself\u001B[39m.inference.logits(tokens, audio_features)\n\u001B[32m    689\u001B[39m         \u001B[38;5;28;01mif\u001B[39;00m (\n\u001B[32m    690\u001B[39m             i == \u001B[32m0\u001B[39m \u001B[38;5;129;01mand\u001B[39;00m \u001B[38;5;28mself\u001B[39m.tokenizer.no_speech \u001B[38;5;129;01mis\u001B[39;00m \u001B[38;5;129;01mnot\u001B[39;00m \u001B[38;5;28;01mNone\u001B[39;00m\n\u001B[32m    691\u001B[39m         ):  \u001B[38;5;66;03m# save no_speech_probs\u001B[39;00m\n\u001B[32m    692\u001B[39m             probs_at_sot = logits[:, \u001B[38;5;28mself\u001B[39m.sot_index].float().softmax(dim=-\u001B[32m1\u001B[39m)\n",
      "\u001B[36mFile \u001B[39m\u001B[32m~\\anaconda3\\envs\\PythonProject\\Lib\\site-packages\\whisper\\decoding.py:163\u001B[39m, in \u001B[36mPyTorchInference.logits\u001B[39m\u001B[34m(self, tokens, audio_features)\u001B[39m\n\u001B[32m    159\u001B[39m \u001B[38;5;28;01mif\u001B[39;00m tokens.shape[-\u001B[32m1\u001B[39m] > \u001B[38;5;28mself\u001B[39m.initial_token_length:\n\u001B[32m    160\u001B[39m     \u001B[38;5;66;03m# only need to use the last token except in the first forward pass\u001B[39;00m\n\u001B[32m    161\u001B[39m     tokens = tokens[:, -\u001B[32m1\u001B[39m:]\n\u001B[32m--> \u001B[39m\u001B[32m163\u001B[39m \u001B[38;5;28;01mreturn\u001B[39;00m \u001B[38;5;28mself\u001B[39m.model.decoder(tokens, audio_features, kv_cache=\u001B[38;5;28mself\u001B[39m.kv_cache)\n",
      "\u001B[36mFile \u001B[39m\u001B[32m~\\anaconda3\\envs\\PythonProject\\Lib\\site-packages\\torch\\nn\\modules\\module.py:1773\u001B[39m, in \u001B[36mModule._wrapped_call_impl\u001B[39m\u001B[34m(self, *args, **kwargs)\u001B[39m\n\u001B[32m   1771\u001B[39m     \u001B[38;5;28;01mreturn\u001B[39;00m \u001B[38;5;28mself\u001B[39m._compiled_call_impl(*args, **kwargs)  \u001B[38;5;66;03m# type: ignore[misc]\u001B[39;00m\n\u001B[32m   1772\u001B[39m \u001B[38;5;28;01melse\u001B[39;00m:\n\u001B[32m-> \u001B[39m\u001B[32m1773\u001B[39m     \u001B[38;5;28;01mreturn\u001B[39;00m \u001B[38;5;28mself\u001B[39m._call_impl(*args, **kwargs)\n",
      "\u001B[36mFile \u001B[39m\u001B[32m~\\anaconda3\\envs\\PythonProject\\Lib\\site-packages\\torch\\nn\\modules\\module.py:1784\u001B[39m, in \u001B[36mModule._call_impl\u001B[39m\u001B[34m(self, *args, **kwargs)\u001B[39m\n\u001B[32m   1779\u001B[39m \u001B[38;5;66;03m# If we don't have any hooks, we want to skip the rest of the logic in\u001B[39;00m\n\u001B[32m   1780\u001B[39m \u001B[38;5;66;03m# this function, and just call forward.\u001B[39;00m\n\u001B[32m   1781\u001B[39m \u001B[38;5;28;01mif\u001B[39;00m \u001B[38;5;129;01mnot\u001B[39;00m (\u001B[38;5;28mself\u001B[39m._backward_hooks \u001B[38;5;129;01mor\u001B[39;00m \u001B[38;5;28mself\u001B[39m._backward_pre_hooks \u001B[38;5;129;01mor\u001B[39;00m \u001B[38;5;28mself\u001B[39m._forward_hooks \u001B[38;5;129;01mor\u001B[39;00m \u001B[38;5;28mself\u001B[39m._forward_pre_hooks\n\u001B[32m   1782\u001B[39m         \u001B[38;5;129;01mor\u001B[39;00m _global_backward_pre_hooks \u001B[38;5;129;01mor\u001B[39;00m _global_backward_hooks\n\u001B[32m   1783\u001B[39m         \u001B[38;5;129;01mor\u001B[39;00m _global_forward_hooks \u001B[38;5;129;01mor\u001B[39;00m _global_forward_pre_hooks):\n\u001B[32m-> \u001B[39m\u001B[32m1784\u001B[39m     \u001B[38;5;28;01mreturn\u001B[39;00m forward_call(*args, **kwargs)\n\u001B[32m   1786\u001B[39m result = \u001B[38;5;28;01mNone\u001B[39;00m\n\u001B[32m   1787\u001B[39m called_always_called_hooks = \u001B[38;5;28mset\u001B[39m()\n",
      "\u001B[36mFile \u001B[39m\u001B[32m~\\anaconda3\\envs\\PythonProject\\Lib\\site-packages\\whisper\\model.py:242\u001B[39m, in \u001B[36mTextDecoder.forward\u001B[39m\u001B[34m(self, x, xa, kv_cache)\u001B[39m\n\u001B[32m    239\u001B[39m x = x.to(xa.dtype)\n\u001B[32m    241\u001B[39m \u001B[38;5;28;01mfor\u001B[39;00m block \u001B[38;5;129;01min\u001B[39;00m \u001B[38;5;28mself\u001B[39m.blocks:\n\u001B[32m--> \u001B[39m\u001B[32m242\u001B[39m     x = block(x, xa, mask=\u001B[38;5;28mself\u001B[39m.mask, kv_cache=kv_cache)\n\u001B[32m    244\u001B[39m x = \u001B[38;5;28mself\u001B[39m.ln(x)\n\u001B[32m    245\u001B[39m logits = (\n\u001B[32m    246\u001B[39m     x @ torch.transpose(\u001B[38;5;28mself\u001B[39m.token_embedding.weight.to(x.dtype), \u001B[32m0\u001B[39m, \u001B[32m1\u001B[39m)\n\u001B[32m    247\u001B[39m ).float()\n",
      "\u001B[36mFile \u001B[39m\u001B[32m~\\anaconda3\\envs\\PythonProject\\Lib\\site-packages\\torch\\nn\\modules\\module.py:1773\u001B[39m, in \u001B[36mModule._wrapped_call_impl\u001B[39m\u001B[34m(self, *args, **kwargs)\u001B[39m\n\u001B[32m   1771\u001B[39m     \u001B[38;5;28;01mreturn\u001B[39;00m \u001B[38;5;28mself\u001B[39m._compiled_call_impl(*args, **kwargs)  \u001B[38;5;66;03m# type: ignore[misc]\u001B[39;00m\n\u001B[32m   1772\u001B[39m \u001B[38;5;28;01melse\u001B[39;00m:\n\u001B[32m-> \u001B[39m\u001B[32m1773\u001B[39m     \u001B[38;5;28;01mreturn\u001B[39;00m \u001B[38;5;28mself\u001B[39m._call_impl(*args, **kwargs)\n",
      "\u001B[36mFile \u001B[39m\u001B[32m~\\anaconda3\\envs\\PythonProject\\Lib\\site-packages\\torch\\nn\\modules\\module.py:1784\u001B[39m, in \u001B[36mModule._call_impl\u001B[39m\u001B[34m(self, *args, **kwargs)\u001B[39m\n\u001B[32m   1779\u001B[39m \u001B[38;5;66;03m# If we don't have any hooks, we want to skip the rest of the logic in\u001B[39;00m\n\u001B[32m   1780\u001B[39m \u001B[38;5;66;03m# this function, and just call forward.\u001B[39;00m\n\u001B[32m   1781\u001B[39m \u001B[38;5;28;01mif\u001B[39;00m \u001B[38;5;129;01mnot\u001B[39;00m (\u001B[38;5;28mself\u001B[39m._backward_hooks \u001B[38;5;129;01mor\u001B[39;00m \u001B[38;5;28mself\u001B[39m._backward_pre_hooks \u001B[38;5;129;01mor\u001B[39;00m \u001B[38;5;28mself\u001B[39m._forward_hooks \u001B[38;5;129;01mor\u001B[39;00m \u001B[38;5;28mself\u001B[39m._forward_pre_hooks\n\u001B[32m   1782\u001B[39m         \u001B[38;5;129;01mor\u001B[39;00m _global_backward_pre_hooks \u001B[38;5;129;01mor\u001B[39;00m _global_backward_hooks\n\u001B[32m   1783\u001B[39m         \u001B[38;5;129;01mor\u001B[39;00m _global_forward_hooks \u001B[38;5;129;01mor\u001B[39;00m _global_forward_pre_hooks):\n\u001B[32m-> \u001B[39m\u001B[32m1784\u001B[39m     \u001B[38;5;28;01mreturn\u001B[39;00m forward_call(*args, **kwargs)\n\u001B[32m   1786\u001B[39m result = \u001B[38;5;28;01mNone\u001B[39;00m\n\u001B[32m   1787\u001B[39m called_always_called_hooks = \u001B[38;5;28mset\u001B[39m()\n",
      "\u001B[36mFile \u001B[39m\u001B[32m~\\anaconda3\\envs\\PythonProject\\Lib\\site-packages\\whisper\\model.py:169\u001B[39m, in \u001B[36mResidualAttentionBlock.forward\u001B[39m\u001B[34m(self, x, xa, mask, kv_cache)\u001B[39m\n\u001B[32m    167\u001B[39m x = x + \u001B[38;5;28mself\u001B[39m.attn(\u001B[38;5;28mself\u001B[39m.attn_ln(x), mask=mask, kv_cache=kv_cache)[\u001B[32m0\u001B[39m]\n\u001B[32m    168\u001B[39m \u001B[38;5;28;01mif\u001B[39;00m \u001B[38;5;28mself\u001B[39m.cross_attn:\n\u001B[32m--> \u001B[39m\u001B[32m169\u001B[39m     x = x + \u001B[38;5;28mself\u001B[39m.cross_attn(\u001B[38;5;28mself\u001B[39m.cross_attn_ln(x), xa, kv_cache=kv_cache)[\u001B[32m0\u001B[39m]\n\u001B[32m    170\u001B[39m x = x + \u001B[38;5;28mself\u001B[39m.mlp(\u001B[38;5;28mself\u001B[39m.mlp_ln(x))\n\u001B[32m    171\u001B[39m \u001B[38;5;28;01mreturn\u001B[39;00m x\n",
      "\u001B[36mFile \u001B[39m\u001B[32m~\\anaconda3\\envs\\PythonProject\\Lib\\site-packages\\torch\\nn\\modules\\module.py:1773\u001B[39m, in \u001B[36mModule._wrapped_call_impl\u001B[39m\u001B[34m(self, *args, **kwargs)\u001B[39m\n\u001B[32m   1771\u001B[39m     \u001B[38;5;28;01mreturn\u001B[39;00m \u001B[38;5;28mself\u001B[39m._compiled_call_impl(*args, **kwargs)  \u001B[38;5;66;03m# type: ignore[misc]\u001B[39;00m\n\u001B[32m   1772\u001B[39m \u001B[38;5;28;01melse\u001B[39;00m:\n\u001B[32m-> \u001B[39m\u001B[32m1773\u001B[39m     \u001B[38;5;28;01mreturn\u001B[39;00m \u001B[38;5;28mself\u001B[39m._call_impl(*args, **kwargs)\n",
      "\u001B[36mFile \u001B[39m\u001B[32m~\\anaconda3\\envs\\PythonProject\\Lib\\site-packages\\torch\\nn\\modules\\module.py:1784\u001B[39m, in \u001B[36mModule._call_impl\u001B[39m\u001B[34m(self, *args, **kwargs)\u001B[39m\n\u001B[32m   1779\u001B[39m \u001B[38;5;66;03m# If we don't have any hooks, we want to skip the rest of the logic in\u001B[39;00m\n\u001B[32m   1780\u001B[39m \u001B[38;5;66;03m# this function, and just call forward.\u001B[39;00m\n\u001B[32m   1781\u001B[39m \u001B[38;5;28;01mif\u001B[39;00m \u001B[38;5;129;01mnot\u001B[39;00m (\u001B[38;5;28mself\u001B[39m._backward_hooks \u001B[38;5;129;01mor\u001B[39;00m \u001B[38;5;28mself\u001B[39m._backward_pre_hooks \u001B[38;5;129;01mor\u001B[39;00m \u001B[38;5;28mself\u001B[39m._forward_hooks \u001B[38;5;129;01mor\u001B[39;00m \u001B[38;5;28mself\u001B[39m._forward_pre_hooks\n\u001B[32m   1782\u001B[39m         \u001B[38;5;129;01mor\u001B[39;00m _global_backward_pre_hooks \u001B[38;5;129;01mor\u001B[39;00m _global_backward_hooks\n\u001B[32m   1783\u001B[39m         \u001B[38;5;129;01mor\u001B[39;00m _global_forward_hooks \u001B[38;5;129;01mor\u001B[39;00m _global_forward_pre_hooks):\n\u001B[32m-> \u001B[39m\u001B[32m1784\u001B[39m     \u001B[38;5;28;01mreturn\u001B[39;00m forward_call(*args, **kwargs)\n\u001B[32m   1786\u001B[39m result = \u001B[38;5;28;01mNone\u001B[39;00m\n\u001B[32m   1787\u001B[39m called_always_called_hooks = \u001B[38;5;28mset\u001B[39m()\n",
      "\u001B[36mFile \u001B[39m\u001B[32m~\\anaconda3\\envs\\PythonProject\\Lib\\site-packages\\whisper\\model.py:112\u001B[39m, in \u001B[36mMultiHeadAttention.forward\u001B[39m\u001B[34m(self, x, xa, mask, kv_cache)\u001B[39m\n\u001B[32m    109\u001B[39m     v = kv_cache[\u001B[38;5;28mself\u001B[39m.value]\n\u001B[32m    111\u001B[39m wv, qk = \u001B[38;5;28mself\u001B[39m.qkv_attention(q, k, v, mask)\n\u001B[32m--> \u001B[39m\u001B[32m112\u001B[39m \u001B[38;5;28;01mreturn\u001B[39;00m \u001B[38;5;28mself\u001B[39m.out(wv), qk\n",
      "\u001B[36mFile \u001B[39m\u001B[32m~\\anaconda3\\envs\\PythonProject\\Lib\\site-packages\\torch\\nn\\modules\\module.py:1773\u001B[39m, in \u001B[36mModule._wrapped_call_impl\u001B[39m\u001B[34m(self, *args, **kwargs)\u001B[39m\n\u001B[32m   1771\u001B[39m     \u001B[38;5;28;01mreturn\u001B[39;00m \u001B[38;5;28mself\u001B[39m._compiled_call_impl(*args, **kwargs)  \u001B[38;5;66;03m# type: ignore[misc]\u001B[39;00m\n\u001B[32m   1772\u001B[39m \u001B[38;5;28;01melse\u001B[39;00m:\n\u001B[32m-> \u001B[39m\u001B[32m1773\u001B[39m     \u001B[38;5;28;01mreturn\u001B[39;00m \u001B[38;5;28mself\u001B[39m._call_impl(*args, **kwargs)\n",
      "\u001B[36mFile \u001B[39m\u001B[32m~\\anaconda3\\envs\\PythonProject\\Lib\\site-packages\\torch\\nn\\modules\\module.py:1784\u001B[39m, in \u001B[36mModule._call_impl\u001B[39m\u001B[34m(self, *args, **kwargs)\u001B[39m\n\u001B[32m   1779\u001B[39m \u001B[38;5;66;03m# If we don't have any hooks, we want to skip the rest of the logic in\u001B[39;00m\n\u001B[32m   1780\u001B[39m \u001B[38;5;66;03m# this function, and just call forward.\u001B[39;00m\n\u001B[32m   1781\u001B[39m \u001B[38;5;28;01mif\u001B[39;00m \u001B[38;5;129;01mnot\u001B[39;00m (\u001B[38;5;28mself\u001B[39m._backward_hooks \u001B[38;5;129;01mor\u001B[39;00m \u001B[38;5;28mself\u001B[39m._backward_pre_hooks \u001B[38;5;129;01mor\u001B[39;00m \u001B[38;5;28mself\u001B[39m._forward_hooks \u001B[38;5;129;01mor\u001B[39;00m \u001B[38;5;28mself\u001B[39m._forward_pre_hooks\n\u001B[32m   1782\u001B[39m         \u001B[38;5;129;01mor\u001B[39;00m _global_backward_pre_hooks \u001B[38;5;129;01mor\u001B[39;00m _global_backward_hooks\n\u001B[32m   1783\u001B[39m         \u001B[38;5;129;01mor\u001B[39;00m _global_forward_hooks \u001B[38;5;129;01mor\u001B[39;00m _global_forward_pre_hooks):\n\u001B[32m-> \u001B[39m\u001B[32m1784\u001B[39m     \u001B[38;5;28;01mreturn\u001B[39;00m forward_call(*args, **kwargs)\n\u001B[32m   1786\u001B[39m result = \u001B[38;5;28;01mNone\u001B[39;00m\n\u001B[32m   1787\u001B[39m called_always_called_hooks = \u001B[38;5;28mset\u001B[39m()\n",
      "\u001B[36mFile \u001B[39m\u001B[32m~\\anaconda3\\envs\\PythonProject\\Lib\\site-packages\\whisper\\model.py:46\u001B[39m, in \u001B[36mLinear.forward\u001B[39m\u001B[34m(self, x)\u001B[39m\n\u001B[32m     45\u001B[39m \u001B[38;5;28;01mdef\u001B[39;00m\u001B[38;5;250m \u001B[39m\u001B[34mforward\u001B[39m(\u001B[38;5;28mself\u001B[39m, x: Tensor) -> Tensor:\n\u001B[32m---> \u001B[39m\u001B[32m46\u001B[39m     \u001B[38;5;28;01mreturn\u001B[39;00m F.linear(\n\u001B[32m     47\u001B[39m         x,\n\u001B[32m     48\u001B[39m         \u001B[38;5;28mself\u001B[39m.weight.to(x.dtype),\n\u001B[32m     49\u001B[39m         \u001B[38;5;28;01mNone\u001B[39;00m \u001B[38;5;28;01mif\u001B[39;00m \u001B[38;5;28mself\u001B[39m.bias \u001B[38;5;129;01mis\u001B[39;00m \u001B[38;5;28;01mNone\u001B[39;00m \u001B[38;5;28;01melse\u001B[39;00m \u001B[38;5;28mself\u001B[39m.bias.to(x.dtype),\n\u001B[32m     50\u001B[39m     )\n",
      "\u001B[31mKeyboardInterrupt\u001B[39m: "
     ]
    }
   ],
   "execution_count": 11
  },
  {
   "metadata": {
    "ExecuteTime": {
     "end_time": "2025-08-28T09:10:45.028954Z",
     "start_time": "2025-08-28T09:09:33.298266Z"
    }
   },
   "cell_type": "code",
   "source": [
    "import os, math, pandas as pd, whisper, torch, soundfile as sf\n",
    "from pathlib import Path\n",
    "\n",
    "device = \"cuda\" if torch.cuda.is_available() else \"cpu\"\n",
    "asr = whisper.load_model(\"medium\").to(device)\n",
    "print(\"ASR device:\", device)\n",
    "\n",
    "def sec(x): return int(round(x))\n",
    "\n",
    "rows = []\n",
    "dropped = {\"too_short\":0, \"too_long\":0, \"empty\":0}\n",
    "for fp in paths:\n",
    "    # 1) 실제 파일 길이 확인\n",
    "    try:\n",
    "        f_info = sf.info(fp)\n",
    "        duration = f_info.duration\n",
    "    except Exception as e:\n",
    "        duration = None\n",
    "    print(f\"\\n== {fp} ==\")\n",
    "    if duration is not None:\n",
    "        print(f\"  file_duration: {duration:.2f}s\")\n",
    "\n",
    "    # 2) 전사\n",
    "    res = asr.transcribe(\n",
    "        fp,\n",
    "        language=\"ko\",\n",
    "        condition_on_previous_text=False,  # 세그먼트 뭉침 방지 쪽으로\n",
    "        temperature=0.0,                   # 필요시 [0,0.2,0.4...] fallback 시도\n",
    "    )\n",
    "\n",
    "    segs = res.get(\"segments\", [])\n",
    "    if segs:\n",
    "        print(f\"  segments: {len(segs)}, last_end: {segs[-1]['end']:.2f}s\")\n",
    "\n",
    "    base = Path(fp).stem\n",
    "    for i, seg in enumerate(segs):\n",
    "        s, e = float(seg[\"start\"]), float(seg[\"end\"])\n",
    "        text = (seg.get(\"text\") or \"\").strip()\n",
    "        dur = e - s\n",
    "\n",
    "        # ---- (A) 우선 필터링을 완화/제거 ----\n",
    "        # if dur < 2.0:\n",
    "        #     dropped[\"too_short\"] += 1; continue\n",
    "        # if dur > 10.0:\n",
    "        #     dropped[\"too_long\"] += 1; continue\n",
    "\n",
    "        if not text:\n",
    "            dropped[\"empty\"] += 1\n",
    "            continue\n",
    "\n",
    "        utt_id = f\"{base}_{sec(s):06d}_{sec(e):06d}\"\n",
    "        rows.append((utt_id, text))\n",
    "\n",
    "print(f\"\\nDropped: {dropped}\")\n",
    "\n",
    "df = pd.DataFrame(rows, columns=[\"utt_id\",\"text\"])\n",
    "print(\"총 문장 수:\", len(df))\n",
    "display(df.head())\n",
    "\n",
    "# Train/Val split\n",
    "val_n = max(1, math.floor(len(df)*0.1))\n",
    "df_val = df.sample(val_n, random_state=42)\n",
    "df_tr  = df.drop(df_val.index)\n",
    "\n",
    "df_tr[[\"utt_id\",\"text\"]].to_csv(S(DATA/\"metadata.csv\"),      index=False, header=False, sep=\"|\", encoding=\"utf-8\")\n",
    "df_val[[\"utt_id\",\"text\"]].to_csv(S(DATA/\"metadata_val.csv\"), index=False, header=False, sep=\"|\", encoding=\"utf-8\")\n",
    "\n",
    "print(\"Train/Val:\", len(df_tr), len(df_val))\n",
    "print(\"metadata.csv:\",      S(DATA/\"metadata.csv\"))\n",
    "print(\"metadata_val.csv:\",  S(DATA/\"metadata_val.csv\"))\n"
   ],
   "id": "a2502fb79af294c3",
   "outputs": [
    {
     "name": "stdout",
     "output_type": "stream",
     "text": [
      "ASR device: cpu\n",
      "\n",
      "== C:\\Users\\JiHwan\\PycharmProjects\\PythonProject\\data_melo\\wavs\\0010.wav ==\n",
      "  file_duration: 7.29s\n"
     ]
    },
    {
     "name": "stderr",
     "output_type": "stream",
     "text": [
      "C:\\Users\\JiHwan\\anaconda3\\envs\\PythonProject\\Lib\\site-packages\\whisper\\transcribe.py:132: UserWarning: FP16 is not supported on CPU; using FP32 instead\n",
      "  warnings.warn(\"FP16 is not supported on CPU; using FP32 instead\")\n"
     ]
    },
    {
     "name": "stdout",
     "output_type": "stream",
     "text": [
      "  segments: 1, last_end: 2.00s\n",
      "\n",
      "== C:\\Users\\JiHwan\\PycharmProjects\\PythonProject\\data_melo\\wavs\\0013.wav ==\n",
      "  file_duration: 9.54s\n",
      "  segments: 3, last_end: 9.52s\n",
      "\n",
      "== C:\\Users\\JiHwan\\PycharmProjects\\PythonProject\\data_melo\\wavs\\0015.wav ==\n",
      "  file_duration: 4.20s\n",
      "  segments: 2, last_end: 4.00s\n",
      "\n",
      "== C:\\Users\\JiHwan\\PycharmProjects\\PythonProject\\data_melo\\wavs\\0020.wav ==\n",
      "  file_duration: 2.64s\n",
      "  segments: 1, last_end: 2.60s\n",
      "\n",
      "== C:\\Users\\JiHwan\\PycharmProjects\\PythonProject\\data_melo\\wavs\\0026.wav ==\n",
      "  file_duration: 8.82s\n",
      "  segments: 6, last_end: 8.80s\n",
      "\n",
      "== C:\\Users\\JiHwan\\PycharmProjects\\PythonProject\\data_melo\\wavs\\0030.wav ==\n",
      "  file_duration: 9.54s\n",
      "  segments: 1, last_end: 2.00s\n",
      "\n",
      "== C:\\Users\\JiHwan\\PycharmProjects\\PythonProject\\data_melo\\wavs\\0035.wav ==\n",
      "  file_duration: 2.52s\n",
      "  segments: 1, last_end: 2.46s\n",
      "\n",
      "== C:\\Users\\JiHwan\\PycharmProjects\\PythonProject\\data_melo\\wavs\\0037.wav ==\n",
      "  file_duration: 2.07s\n",
      "\n",
      "== C:\\Users\\JiHwan\\PycharmProjects\\PythonProject\\data_melo\\wavs\\0040.wav ==\n",
      "  file_duration: 6.90s\n",
      "  segments: 2, last_end: 6.16s\n",
      "\n",
      "Dropped: {'too_short': 0, 'too_long': 0, 'empty': 0}\n",
      "총 문장 수: 17\n"
     ]
    },
    {
     "data": {
      "text/plain": [
       "               utt_id                           text\n",
       "0  0010_000000_000002                            음~~\n",
       "1  0013_000000_000002     이게 김치찌개 끓이는 것도 다양한 방법이 있어요\n",
       "2  0013_000002_000005        내가 만약에 오늘 멸치 김치찌개를 끓이겠다\n",
       "3  0013_000005_000010  해산물 다시 팩에 국물 우려서 육수에다가 김치 끓여서\n",
       "4  0015_000000_000002                   잊어버리고 끓여야 돼."
      ],
      "text/html": [
       "<div>\n",
       "<style scoped>\n",
       "    .dataframe tbody tr th:only-of-type {\n",
       "        vertical-align: middle;\n",
       "    }\n",
       "\n",
       "    .dataframe tbody tr th {\n",
       "        vertical-align: top;\n",
       "    }\n",
       "\n",
       "    .dataframe thead th {\n",
       "        text-align: right;\n",
       "    }\n",
       "</style>\n",
       "<table border=\"1\" class=\"dataframe\">\n",
       "  <thead>\n",
       "    <tr style=\"text-align: right;\">\n",
       "      <th></th>\n",
       "      <th>utt_id</th>\n",
       "      <th>text</th>\n",
       "    </tr>\n",
       "  </thead>\n",
       "  <tbody>\n",
       "    <tr>\n",
       "      <th>0</th>\n",
       "      <td>0010_000000_000002</td>\n",
       "      <td>음~~</td>\n",
       "    </tr>\n",
       "    <tr>\n",
       "      <th>1</th>\n",
       "      <td>0013_000000_000002</td>\n",
       "      <td>이게 김치찌개 끓이는 것도 다양한 방법이 있어요</td>\n",
       "    </tr>\n",
       "    <tr>\n",
       "      <th>2</th>\n",
       "      <td>0013_000002_000005</td>\n",
       "      <td>내가 만약에 오늘 멸치 김치찌개를 끓이겠다</td>\n",
       "    </tr>\n",
       "    <tr>\n",
       "      <th>3</th>\n",
       "      <td>0013_000005_000010</td>\n",
       "      <td>해산물 다시 팩에 국물 우려서 육수에다가 김치 끓여서</td>\n",
       "    </tr>\n",
       "    <tr>\n",
       "      <th>4</th>\n",
       "      <td>0015_000000_000002</td>\n",
       "      <td>잊어버리고 끓여야 돼.</td>\n",
       "    </tr>\n",
       "  </tbody>\n",
       "</table>\n",
       "</div>"
      ]
     },
     "metadata": {},
     "output_type": "display_data"
    },
    {
     "name": "stdout",
     "output_type": "stream",
     "text": [
      "Train/Val: 16 1\n",
      "metadata.csv: C:\\Users\\JiHwan\\PycharmProjects\\PythonProject\\data_melo\\metadata.csv\n",
      "metadata_val.csv: C:\\Users\\JiHwan\\PycharmProjects\\PythonProject\\data_melo\\metadata_val.csv\n"
     ]
    }
   ],
   "execution_count": 7
  },
  {
   "metadata": {
    "jupyter": {
     "is_executing": true
    },
    "ExecuteTime": {
     "end_time": "2025-08-29T00:34:31.418654500Z",
     "start_time": "2025-08-29T00:33:36.905559Z"
    }
   },
   "cell_type": "code",
   "source": [
    "# 7개 컬럼으로 만드는 코드\n",
    "import os, math, pandas as pd, whisper, torch\n",
    "# 'cleaner' 모듈을 임포트합니다.\n",
    "from MeloTTS.melo.text import cleaner\n",
    "\n",
    "device = \"cuda\" if torch.cuda.is_available() else \"cpu\"\n",
    "asr = whisper.load_model(\"small\").to(device)\n",
    "print(\"ASR device:\", device)\n",
    "\n",
    "# 화자 ID와 언어 ID를 정의합니다.\n",
    "SPEAKER_ID = \"Hong\"\n",
    "LANGUAGE = \"KR\" # 언어 코드는 'KR'로 설정해야 합니다 (config.json의 'spk2id'와 일치).\n",
    "\n",
    "rows = []\n",
    "for fp in paths:\n",
    "    res = asr.transcribe(fp, language=\"ko\")\n",
    "    text = res[\"text\"].strip()\n",
    "    utt_id = os.path.basename(fp).replace(\".wav\", \"\")\n",
    "\n",
    "    # 'cleaner' 모듈의 'clean_text' 함수를 사용하여 필요한 값을 가져옵니다.\n",
    "    _, phones, tones, word2ph = cleaner.clean_text(text, LANGUAGE)\n",
    "\n",
    "    # DataFrame에 추가할 7가지 값을 올바른 순서로 정의합니다.\n",
    "    rows.append((utt_id, SPEAKER_ID, LANGUAGE, text, \" \".join(phones), \" \".join(map(str, tones)), \" \".join(map(str, word2ph))))\n",
    "\n",
    "df = pd.DataFrame(rows, columns=[\"_id\", \"spk\", \"language\", \"text\", \"phones\", \"tone\", \"word2ph\"])\n",
    "print(\"생성된 데이터프레임:\")\n",
    "print(df.head())\n",
    "\n",
    "val_n = max(1, math.floor(len(df) * 0.1))\n",
    "df_val = df.sample(val_n, random_state=42)\n",
    "df_tr = df.drop(df_val.index)\n",
    "\n",
    "df_tr.to_csv(S(DATA / \"metadata.csv\"), index=False, header=False, sep=\"|\", encoding=\"utf-8\")\n",
    "df_val.to_csv(S(DATA / \"metadata_val.csv\"), index=False, header=False, sep=\"|\", encoding=\"utf-8\")\n",
    "\n",
    "print(\"훈련/검증 데이터 수:\", len(df_tr), len(df_val))\n",
    "print(\"metadata.csv 파일이 올바르게 생성되었습니다.\")"
   ],
   "id": "44b097a76677a9c9",
   "outputs": [
    {
     "name": "stderr",
     "output_type": "stream",
     "text": [
      "C:\\Users\\JiHwan\\anaconda3\\envs\\PythonProject\\Lib\\site-packages\\jieba\\_compat.py:18: UserWarning: pkg_resources is deprecated as an API. See https://setuptools.pypa.io/en/latest/pkg_resources.html. The pkg_resources package is slated for removal as early as 2025-11-30. Refrain from using this package or pin to Setuptools<81.\n",
      "  import pkg_resources\n",
      "C:\\Users\\JiHwan\\anaconda3\\envs\\PythonProject\\Lib\\site-packages\\requests\\__init__.py:86: RequestsDependencyWarning: Unable to find acceptable character detection dependency (chardet or charset_normalizer).\n",
      "  warnings.warn(\n"
     ]
    },
    {
     "name": "stdout",
     "output_type": "stream",
     "text": [
      "ASR device: cpu\n"
     ]
    },
    {
     "name": "stderr",
     "output_type": "stream",
     "text": [
      "C:\\Users\\JiHwan\\anaconda3\\envs\\PythonProject\\Lib\\site-packages\\whisper\\transcribe.py:132: UserWarning: FP16 is not supported on CPU; using FP32 instead\n",
      "  warnings.warn(\"FP16 is not supported on CPU; using FP32 instead\")\n"
     ]
    }
   ],
   "execution_count": null
  },
  {
   "metadata": {
    "ExecuteTime": {
     "end_time": "2025-08-28T08:49:47.362184500Z",
     "start_time": "2025-08-28T07:09:54.586337Z"
    }
   },
   "cell_type": "code",
   "source": [
    "from huggingface_hub import snapshot_download\n",
    "import json, shutil\n",
    "\n",
    "ckpt_dir = P(snapshot_download(\"myshell-ai/MeloTTS-Korean\"))\n",
    "\n",
    "# 워밍업 ckpt 준비\n",
    "#\n",
    "shutil.copy2(S(ckpt_dir/\"checkpoint.pth\"), S(EXP/\"warmup_checkpoint.pth\"))\n",
    "\n",
    "# config 로드 + 화자 추가 + 데이터 경로 주입\n",
    "cfg_path = ckpt_dir/\"config.json\"\n",
    "if cfg_path.exists():\n",
    "    hps = json.loads(cfg_path.read_text(encoding=\"utf-8\"))\n",
    "else:\n",
    "    hps = {\"data\":{\"spk2id\":{\"KR\":0}, \"n_speakers\":256, \"sampling_rate\":24000},\n",
    "           \"train\":{}, \"model\":{}}\n",
    "\n",
    "spk2id = hps.setdefault(\"data\", {}).get(\"spk2id\", {\"KR\":0})\n",
    "spk2id.setdefault(\"KR\", 0)\n",
    "spk2id[\"Hong\"] = 1\n",
    "hps[\"data\"][\"spk2id\"] = spk2id\n",
    "hps[\"data\"][\"n_speakers\"] = max(hps[\"data\"].get(\"n_speakers\", 256), 2)\n",
    "\n",
    "hps[\"data\"][\"training_files\"]   = S(DATA/\"metadata.csv\")\n",
    "hps[\"data\"][\"validation_files\"] = S(DATA/\"metadata_val.csv\")\n",
    "\n",
    "hps.setdefault(\"train\", {}).update({\n",
    "    \"epochs\": 10,\n",
    "    \"batch_size\": 8,\n",
    "    \"learning_rate\": 1e-4,\n",
    "    \"grad_accum_steps\": 2,\n",
    "    \"mixed_precision\": True,\n",
    "})\n",
    "\n",
    "cfg_out = EXP/\"config_finetune_my.json\"\n",
    "cfg_out.write_text(json.dumps(hps, ensure_ascii=False, indent=2), encoding=\"utf-8\")\n",
    "print(\"spk2id:\", hps[\"data\"][\"spk2id\"])\n",
    "print(\"설정 저장:\", S(cfg_out))\n",
    "print(\"워밍업 ckpt:\", S(EXP/\"warmup_checkpoint.pth\"))\n"
   ],
   "id": "dd1ec45151d08bfc",
   "outputs": [
    {
     "data": {
      "text/plain": [
       "Fetching 4 files:   0%|          | 0/4 [00:00<?, ?it/s]"
      ],
      "application/vnd.jupyter.widget-view+json": {
       "version_major": 2,
       "version_minor": 0,
       "model_id": "e729465b337249a8ac631fcf836139c7"
      }
     },
     "metadata": {},
     "output_type": "display_data"
    },
    {
     "name": "stdout",
     "output_type": "stream",
     "text": [
      "spk2id: {'KR': 0, 'Hong': 1}\n",
      "설정 저장: C:\\Users\\JiHwan\\PycharmProjects\\PythonProject\\exp_myvoice\\config_finetune_my.json\n",
      "워밍업 ckpt: C:\\Users\\JiHwan\\PycharmProjects\\PythonProject\\exp_myvoice\\warmup_checkpoint.pth\n"
     ]
    }
   ],
   "execution_count": 7
  },
  {
   "metadata": {
    "ExecuteTime": {
     "end_time": "2025-08-28T03:21:14.338441Z",
     "start_time": "2025-08-28T03:21:10.134519Z"
    }
   },
   "cell_type": "code",
   "source": [
    "!pip install tensorboard\n",
    "!python -m MeloTTS.melo.train"
   ],
   "id": "ab2e19cd93dd64ef",
   "outputs": [
    {
     "name": "stdout",
     "output_type": "stream",
     "text": [
      "Requirement already satisfied: tensorboard in c:\\users\\jihwan\\anaconda3\\envs\\pythonproject\\lib\\site-packages (2.20.0)\n",
      "Requirement already satisfied: absl-py>=0.4 in c:\\users\\jihwan\\anaconda3\\envs\\pythonproject\\lib\\site-packages (from tensorboard) (2.3.1)\n",
      "Requirement already satisfied: grpcio>=1.48.2 in c:\\users\\jihwan\\anaconda3\\envs\\pythonproject\\lib\\site-packages (from tensorboard) (1.74.0)\n",
      "Requirement already satisfied: markdown>=2.6.8 in c:\\users\\jihwan\\anaconda3\\envs\\pythonproject\\lib\\site-packages (from tensorboard) (3.8.2)\n",
      "Requirement already satisfied: numpy>=1.12.0 in c:\\users\\jihwan\\anaconda3\\envs\\pythonproject\\lib\\site-packages (from tensorboard) (2.2.6)\n",
      "Requirement already satisfied: packaging in c:\\users\\jihwan\\anaconda3\\envs\\pythonproject\\lib\\site-packages (from tensorboard) (25.0)\n",
      "Requirement already satisfied: pillow in c:\\users\\jihwan\\anaconda3\\envs\\pythonproject\\lib\\site-packages (from tensorboard) (11.3.0)\n",
      "Requirement already satisfied: protobuf!=4.24.0,>=3.19.6 in c:\\users\\jihwan\\anaconda3\\envs\\pythonproject\\lib\\site-packages (from tensorboard) (6.32.0)\n",
      "Requirement already satisfied: setuptools>=41.0.0 in c:\\users\\jihwan\\anaconda3\\envs\\pythonproject\\lib\\site-packages (from tensorboard) (80.9.0)\n",
      "Requirement already satisfied: tensorboard-data-server<0.8.0,>=0.7.0 in c:\\users\\jihwan\\anaconda3\\envs\\pythonproject\\lib\\site-packages (from tensorboard) (0.7.2)\n",
      "Requirement already satisfied: werkzeug>=1.0.1 in c:\\users\\jihwan\\anaconda3\\envs\\pythonproject\\lib\\site-packages (from tensorboard) (3.1.3)\n",
      "Requirement already satisfied: MarkupSafe>=2.1.1 in c:\\users\\jihwan\\anaconda3\\envs\\pythonproject\\lib\\site-packages (from werkzeug>=1.0.1->tensorboard) (3.0.2)\n"
     ]
    },
    {
     "name": "stderr",
     "output_type": "stream",
     "text": [
      "Traceback (most recent call last):\n",
      "  File \"<frozen runpy>\", line 198, in _run_module_as_main\n",
      "  File \"<frozen runpy>\", line 88, in _run_code\n",
      "  File \"C:\\Users\\JiHwan\\PycharmProjects\\PythonProject\\MeloTTS\\melo\\train.py\", line 15, in <module>\n",
      "    import commons\n",
      "ModuleNotFoundError: No module named 'commons'\n"
     ]
    }
   ],
   "execution_count": 14
  },
  {
   "metadata": {
    "ExecuteTime": {
     "end_time": "2025-08-28T03:24:41.202889Z",
     "start_time": "2025-08-28T03:24:38.204773Z"
    }
   },
   "cell_type": "code",
   "source": [
    "!pip install -U pip\n",
    "!pip install --only-binary=:all: \"mecab-python3>=1.0.8\" \"unidic-lite>=1.0.8\""
   ],
   "id": "e9509087f3bd5723",
   "outputs": [
    {
     "name": "stdout",
     "output_type": "stream",
     "text": [
      "Requirement already satisfied: pip in c:\\users\\jihwan\\anaconda3\\envs\\pythonproject\\lib\\site-packages (25.2)\n",
      "Requirement already satisfied: mecab-python3>=1.0.8 in c:\\users\\jihwan\\anaconda3\\envs\\pythonproject\\lib\\site-packages (1.0.10)\n",
      "Requirement already satisfied: unidic-lite>=1.0.8 in c:\\users\\jihwan\\anaconda3\\envs\\pythonproject\\lib\\site-packages (1.0.8)\n"
     ]
    }
   ],
   "execution_count": 18
  },
  {
   "metadata": {
    "ExecuteTime": {
     "end_time": "2025-08-28T03:57:55.706Z",
     "start_time": "2025-08-28T03:57:35.698335Z"
    }
   },
   "cell_type": "code",
   "source": "!pip install --no-cache-dir --force-reinstall \"numpy<2.3,>=1.24\" \"numba>=0.61.2\"",
   "id": "2d2a903b7a91c4c7",
   "outputs": [
    {
     "name": "stdout",
     "output_type": "stream",
     "text": [
      "Collecting numpy<2.3,>=1.24\n",
      "  Downloading numpy-2.2.6-cp312-cp312-win_amd64.whl.metadata (60 kB)\n",
      "Collecting numba>=0.61.2\n",
      "  Downloading numba-0.61.2-cp312-cp312-win_amd64.whl.metadata (2.9 kB)\n",
      "Collecting llvmlite<0.45,>=0.44.0dev0 (from numba>=0.61.2)\n",
      "  Downloading llvmlite-0.44.0-cp312-cp312-win_amd64.whl.metadata (5.0 kB)\n",
      "Downloading numpy-2.2.6-cp312-cp312-win_amd64.whl (12.6 MB)\n",
      "   ---------------------------------------- 0.0/12.6 MB ? eta -:--:--\n",
      "   --------------------------- ------------ 8.7/12.6 MB 44.9 MB/s eta 0:00:01\n",
      "   ---------------------------------------- 12.6/12.6 MB 46.6 MB/s  0:00:00\n",
      "Downloading numba-0.61.2-cp312-cp312-win_amd64.whl (2.8 MB)\n",
      "   ---------------------------------------- 0.0/2.8 MB ? eta -:--:--\n",
      "   ---------------------------------------- 2.8/2.8 MB 40.8 MB/s  0:00:00\n",
      "Downloading llvmlite-0.44.0-cp312-cp312-win_amd64.whl (30.3 MB)\n",
      "   ---------------------------------------- 0.0/30.3 MB ? eta -:--:--\n",
      "   ---- ----------------------------------- 3.1/30.3 MB 61.4 MB/s eta 0:00:01\n",
      "   --------- ------------------------------ 7.3/30.3 MB 17.4 MB/s eta 0:00:02\n",
      "   ------------- -------------------------- 10.2/30.3 MB 15.9 MB/s eta 0:00:02\n",
      "   ----------------------------- ---------- 22.3/30.3 MB 26.6 MB/s eta 0:00:01\n",
      "   ---------------------------------------- 30.3/30.3 MB 31.0 MB/s  0:00:00\n",
      "Installing collected packages: numpy, llvmlite, numba\n",
      "\n",
      "  Attempting uninstall: numpy\n",
      "\n",
      "    Found existing installation: numpy 2.2.6\n",
      "\n",
      "    Uninstalling numpy-2.2.6:\n",
      "\n",
      "   ---------------------------------------- 0/3 [numpy]\n",
      "   ---------------------------------------- 0/3 [numpy]\n",
      "   ---------------------------------------- 0/3 [numpy]\n",
      "   ---------------------------------------- 0/3 [numpy]\n",
      "   ---------------------------------------- 0/3 [numpy]\n",
      "   ---------------------------------------- 0/3 [numpy]\n",
      "   ---------------------------------------- 0/3 [numpy]\n",
      "   ---------------------------------------- 0/3 [numpy]\n",
      "      Successfully uninstalled numpy-2.2.6\n",
      "   ---------------------------------------- 0/3 [numpy]\n",
      "   ---------------------------------------- 0/3 [numpy]\n",
      "   ---------------------------------------- 0/3 [numpy]\n",
      "   ---------------------------------------- 0/3 [numpy]\n",
      "   ---------------------------------------- 0/3 [numpy]\n",
      "   ---------------------------------------- 0/3 [numpy]\n",
      "   ---------------------------------------- 0/3 [numpy]\n",
      "   ---------------------------------------- 0/3 [numpy]\n",
      "   ---------------------------------------- 0/3 [numpy]\n",
      "   ---------------------------------------- 0/3 [numpy]\n",
      "   ---------------------------------------- 0/3 [numpy]\n",
      "   ---------------------------------------- 0/3 [numpy]\n",
      "   ---------------------------------------- 0/3 [numpy]\n",
      "   ---------------------------------------- 0/3 [numpy]\n",
      "   ---------------------------------------- 0/3 [numpy]\n",
      "   ---------------------------------------- 0/3 [numpy]\n",
      "   ---------------------------------------- 0/3 [numpy]\n",
      "   ---------------------------------------- 0/3 [numpy]\n",
      "   ---------------------------------------- 0/3 [numpy]\n",
      "   ---------------------------------------- 0/3 [numpy]\n",
      "   ---------------------------------------- 0/3 [numpy]\n",
      "   ---------------------------------------- 0/3 [numpy]\n",
      "   ---------------------------------------- 0/3 [numpy]\n",
      "   ---------------------------------------- 0/3 [numpy]\n",
      "   ---------------------------------------- 0/3 [numpy]\n",
      "   ---------------------------------------- 0/3 [numpy]\n",
      "   ---------------------------------------- 0/3 [numpy]\n",
      "   ---------------------------------------- 0/3 [numpy]\n",
      "   ---------------------------------------- 0/3 [numpy]\n",
      "   ---------------------------------------- 0/3 [numpy]\n",
      "   ---------------------------------------- 0/3 [numpy]\n",
      "   ---------------------------------------- 0/3 [numpy]\n",
      "   ---------------------------------------- 0/3 [numpy]\n",
      "   ---------------------------------------- 0/3 [numpy]\n",
      "   ---------------------------------------- 0/3 [numpy]\n",
      "   ---------------------------------------- 0/3 [numpy]\n",
      "   ---------------------------------------- 0/3 [numpy]\n",
      "  Attempting uninstall: llvmlite\n",
      "   ---------------------------------------- 0/3 [numpy]\n",
      "    Found existing installation: llvmlite 0.44.0\n",
      "   ---------------------------------------- 0/3 [numpy]\n",
      "    Uninstalling llvmlite-0.44.0:\n",
      "   ---------------------------------------- 0/3 [numpy]\n",
      "      Successfully uninstalled llvmlite-0.44.0\n",
      "   ---------------------------------------- 0/3 [numpy]\n",
      "   ------------- -------------------------- 1/3 [llvmlite]\n",
      "   ------------- -------------------------- 1/3 [llvmlite]\n",
      "   ------------- -------------------------- 1/3 [llvmlite]\n",
      "   ------------- -------------------------- 1/3 [llvmlite]\n",
      "   ------------- -------------------------- 1/3 [llvmlite]\n",
      "   ------------- -------------------------- 1/3 [llvmlite]\n",
      "   ------------- -------------------------- 1/3 [llvmlite]\n",
      "   ------------- -------------------------- 1/3 [llvmlite]\n",
      "  Attempting uninstall: numba\n",
      "   ------------- -------------------------- 1/3 [llvmlite]\n",
      "    Found existing installation: numba 0.61.2\n",
      "   ------------- -------------------------- 1/3 [llvmlite]\n",
      "   -------------------------- ------------- 2/3 [numba]\n",
      "    Uninstalling numba-0.61.2:\n",
      "   -------------------------- ------------- 2/3 [numba]\n",
      "   -------------------------- ------------- 2/3 [numba]\n",
      "   -------------------------- ------------- 2/3 [numba]\n",
      "   -------------------------- ------------- 2/3 [numba]\n",
      "   -------------------------- ------------- 2/3 [numba]\n",
      "   -------------------------- ------------- 2/3 [numba]\n",
      "      Successfully uninstalled numba-0.61.2\n",
      "   -------------------------- ------------- 2/3 [numba]\n",
      "   -------------------------- ------------- 2/3 [numba]\n",
      "   -------------------------- ------------- 2/3 [numba]\n",
      "   -------------------------- ------------- 2/3 [numba]\n",
      "   -------------------------- ------------- 2/3 [numba]\n",
      "   -------------------------- ------------- 2/3 [numba]\n",
      "   -------------------------- ------------- 2/3 [numba]\n",
      "   -------------------------- ------------- 2/3 [numba]\n",
      "   -------------------------- ------------- 2/3 [numba]\n",
      "   -------------------------- ------------- 2/3 [numba]\n",
      "   -------------------------- ------------- 2/3 [numba]\n",
      "   -------------------------- ------------- 2/3 [numba]\n",
      "   -------------------------- ------------- 2/3 [numba]\n",
      "   -------------------------- ------------- 2/3 [numba]\n",
      "   -------------------------- ------------- 2/3 [numba]\n",
      "   -------------------------- ------------- 2/3 [numba]\n",
      "   -------------------------- ------------- 2/3 [numba]\n",
      "   -------------------------- ------------- 2/3 [numba]\n",
      "   -------------------------- ------------- 2/3 [numba]\n",
      "   -------------------------- ------------- 2/3 [numba]\n",
      "   -------------------------- ------------- 2/3 [numba]\n",
      "   -------------------------- ------------- 2/3 [numba]\n",
      "   -------------------------- ------------- 2/3 [numba]\n",
      "   -------------------------- ------------- 2/3 [numba]\n",
      "   -------------------------- ------------- 2/3 [numba]\n",
      "   -------------------------- ------------- 2/3 [numba]\n",
      "   -------------------------- ------------- 2/3 [numba]\n",
      "   -------------------------- ------------- 2/3 [numba]\n",
      "   -------------------------- ------------- 2/3 [numba]\n",
      "   -------------------------- ------------- 2/3 [numba]\n",
      "   -------------------------- ------------- 2/3 [numba]\n",
      "   -------------------------- ------------- 2/3 [numba]\n",
      "   -------------------------- ------------- 2/3 [numba]\n",
      "   ---------------------------------------- 3/3 [numba]\n",
      "\n",
      "Successfully installed llvmlite-0.44.0 numba-0.61.2 numpy-2.2.6\n"
     ]
    },
    {
     "name": "stderr",
     "output_type": "stream",
     "text": [
      "WARNING: Ignoring invalid distribution ~umpy (C:\\Users\\JiHwan\\anaconda3\\envs\\PythonProject\\Lib\\site-packages)\n",
      "WARNING: Ignoring invalid distribution ~lvmlite (C:\\Users\\JiHwan\\anaconda3\\envs\\PythonProject\\Lib\\site-packages)\n"
     ]
    }
   ],
   "execution_count": 33
  },
  {
   "metadata": {
    "ExecuteTime": {
     "end_time": "2025-08-29T02:49:29.493217Z",
     "start_time": "2025-08-29T02:49:29.311246Z"
    }
   },
   "cell_type": "code",
   "source": [
    "!chcp 65001\n",
    "!set PYTHONUTF8=1\n",
    "!set PYTHONIOENCODING=utf-8"
   ],
   "id": "cac48d1046abcd06",
   "outputs": [
    {
     "name": "stdout",
     "output_type": "stream",
     "text": [
      "Active code page: 65001\n"
     ]
    }
   ],
   "execution_count": 30
  },
  {
   "metadata": {
    "ExecuteTime": {
     "end_time": "2025-08-29T02:49:31.319383Z",
     "start_time": "2025-08-29T02:49:31.314249Z"
    }
   },
   "cell_type": "code",
   "source": [
    "import numpy\n",
    "numpy.__version__"
   ],
   "id": "d53cf166d584002e",
   "outputs": [
    {
     "data": {
      "text/plain": [
       "'2.2.6'"
      ]
     },
     "execution_count": 31,
     "metadata": {},
     "output_type": "execute_result"
    }
   ],
   "execution_count": 31
  },
  {
   "metadata": {
    "ExecuteTime": {
     "end_time": "2025-08-29T02:49:37.153848Z",
     "start_time": "2025-08-29T02:49:34.632962Z"
    }
   },
   "cell_type": "code",
   "source": [
    "!python - << \"PY\"\n",
    "import numpy, transformers\n",
    "print(\"numpy:\", numpy.__version__, \"|\", numpy.__file__)\n",
    "print(\"transformers:\", transformers.__version__)\n",
    "!PY"
   ],
   "id": "edff40f9c52dc5ca",
   "outputs": [
    {
     "name": "stderr",
     "output_type": "stream",
     "text": [
      "<< was unexpected at this time.\n",
      "C:\\Users\\JiHwan\\anaconda3\\envs\\PythonProject\\Lib\\site-packages\\requests\\__init__.py:86: RequestsDependencyWarning: Unable to find acceptable character detection dependency (chardet or charset_normalizer).\n",
      "  warnings.warn(\n"
     ]
    },
    {
     "name": "stdout",
     "output_type": "stream",
     "text": [
      "numpy: 2.2.6 | C:\\Users\\JiHwan\\anaconda3\\envs\\PythonProject\\Lib\\site-packages\\numpy\\__init__.py\n",
      "transformers: 4.55.4\n"
     ]
    },
    {
     "name": "stderr",
     "output_type": "stream",
     "text": [
      "'PY' is not recognized as an internal or external command,\n",
      "operable program or batch file.\n"
     ]
    }
   ],
   "execution_count": 32
  },
  {
   "metadata": {
    "ExecuteTime": {
     "end_time": "2025-08-29T02:50:01.649974Z",
     "start_time": "2025-08-29T02:49:41.143038Z"
    }
   },
   "cell_type": "code",
   "source": [
    "# 모델 허용값 확인\n",
    "!python -m MeloTTS.melo.train --help"
   ],
   "id": "ac54d65cd0a2605c",
   "outputs": [
    {
     "name": "stdout",
     "output_type": "stream",
     "text": [
      "[WARN] CUDA 미사용: CPU로 학습합니다(매우 느릴 수 있음).\n",
      "usage: train.py [-h] [-c CONFIG] [--local_rank LOCAL_RANK]\n",
      "                [--world-size WORLD_SIZE] [--port PORT] -m MODEL\n",
      "                [--pretrain_G PRETRAIN_G] [--pretrain_D PRETRAIN_D]\n",
      "                [--pretrain_dur PRETRAIN_DUR]\n",
      "\n",
      "options:\n",
      "  -h, --help            show this help message and exit\n",
      "  -c CONFIG, --config CONFIG\n",
      "                        JSON file for configuration\n",
      "  --local_rank LOCAL_RANK\n",
      "  --world-size WORLD_SIZE\n",
      "  --port PORT\n",
      "  -m MODEL, --model MODEL\n",
      "                        Model name\n",
      "  --pretrain_G PRETRAIN_G\n",
      "                        pretrain model\n",
      "  --pretrain_D PRETRAIN_D\n",
      "                        pretrain model D\n",
      "  --pretrain_dur PRETRAIN_DUR\n",
      "                        pretrain model duration\n"
     ]
    },
    {
     "name": "stderr",
     "output_type": "stream",
     "text": [
      "C:\\Users\\JiHwan\\anaconda3\\envs\\PythonProject\\Lib\\site-packages\\jieba\\_compat.py:18: UserWarning: pkg_resources is deprecated as an API. See https://setuptools.pypa.io/en/latest/pkg_resources.html. The pkg_resources package is slated for removal as early as 2025-11-30. Refrain from using this package or pin to Setuptools<81.\n",
      "  import pkg_resources\n",
      "C:\\Users\\JiHwan\\anaconda3\\envs\\PythonProject\\Lib\\site-packages\\requests\\__init__.py:86: RequestsDependencyWarning: Unable to find acceptable character detection dependency (chardet or charset_normalizer).\n",
      "  warnings.warn(\n"
     ]
    }
   ],
   "execution_count": 33
  },
  {
   "metadata": {
    "ExecuteTime": {
     "end_time": "2025-08-28T07:20:35.728186Z",
     "start_time": "2025-08-28T07:20:35.722603Z"
    }
   },
   "cell_type": "code",
   "source": "%cd PycharmProjects\\PythonProject",
   "id": "87a6c706545ab742",
   "outputs": [
    {
     "name": "stdout",
     "output_type": "stream",
     "text": [
      "C:\\Users\\JiHwan\\PycharmProjects\\PythonProject\n"
     ]
    }
   ],
   "execution_count": 14
  },
  {
   "metadata": {
    "ExecuteTime": {
     "end_time": "2025-08-28T08:27:56.056001Z",
     "start_time": "2025-08-28T08:27:55.230022Z"
    }
   },
   "cell_type": "code",
   "source": [
    "import requests\n",
    "\n",
    "url = \"https://myshell-public-repo-host.s3.amazonaws.com/openvoice/basespeakers/pretrained/G.pth\"\n",
    "r = requests.head(url)\n",
    "print(\"Status:\", r.status_code)\n"
   ],
   "id": "612f972752057c7b",
   "outputs": [
    {
     "name": "stdout",
     "output_type": "stream",
     "text": [
      "Status: 200\n"
     ]
    }
   ],
   "execution_count": 30
  },
  {
   "metadata": {
    "ExecuteTime": {
     "end_time": "2025-08-28T08:28:40.448998Z",
     "start_time": "2025-08-28T08:28:38.495525Z"
    }
   },
   "cell_type": "code",
   "source": [
    "from MeloTTS.melo.download_utils import PRETRAINED_MODELS, load_pretrain_model\n",
    "local_paths = load_pretrain_model()  # 자동으로 다운로드 혹은 캐시 경로 반환\n",
    "print(local_paths)  # [G.pth 경로, D.pth 경로, DUR.pth 경로]\n"
   ],
   "id": "1a2e026e85050d99",
   "outputs": [
    {
     "name": "stdout",
     "output_type": "stream",
     "text": [
      "[WindowsPath('C:/Users/JiHwan/.cache/cached_path/73ad3d5a37c82356ed81630b0a435b4b376ca49523854fe2b8302609fd71c193.133b77b9d9162e348486a0a0778fa47d726930e3ec12ea5e2684c0c919743a65'), WindowsPath('C:/Users/JiHwan/.cache/cached_path/c3d3c787a8711093a79ee95f091a35de75e527b6e8e28424ad7010f6e86cce58.e5f88bb1eca17c37beb511b15a932e84fdc8b66d8a8d5c5075334650425954f2'), WindowsPath('C:/Users/JiHwan/.cache/cached_path/c7b373ab8939eb672a985a802d21420534ca0cd43fa4aecf4fa6088a569ee2a1.ce7a8153914d9727ebc28e4b4e3d31eed35aa0b4e3d125eb54e6f8363968dd7a')]\n"
     ]
    }
   ],
   "execution_count": 35
  },
  {
   "metadata": {
    "ExecuteTime": {
     "end_time": "2025-08-28T08:31:36.584611Z",
     "start_time": "2025-08-28T08:31:36.579874Z"
    }
   },
   "cell_type": "code",
   "source": [
    "import os\n",
    "p = r\"C:\\Users\\JiHwan\\PycharmProjects\\PythonProject\\exp_myvoice\\G.pth\"\n",
    "print(os.path.exists(p), os.path.getsize(p) if os.path.exists(p) else None)\n"
   ],
   "id": "17b6c2aa0e819657",
   "outputs": [
    {
     "name": "stdout",
     "output_type": "stream",
     "text": [
      "True 207784400\n"
     ]
    }
   ],
   "execution_count": 36
  },
  {
   "metadata": {
    "jupyter": {
     "is_executing": true
    },
    "ExecuteTime": {
     "start_time": "2025-08-28T08:36:05.892860Z"
    }
   },
   "cell_type": "code",
   "source": [
    "# 기존의 '모델훈련' 셀을 이 코드로 대체합니다.\n",
    "# 이 셀은 MeloTTS/melo/train.py 파일의 기능을 직접 호출하는 방식입니다.\n",
    "\n",
    "# 필요한 모듈 임포트\n",
    "import subprocess\n",
    "import sys\n",
    "import os\n",
    "import torch\n",
    "from pathlib import Path\n",
    "\n",
    "# 기존 경로 변수들이 잘 정의되어 있다고 가정\n",
    "# ROOT, EXP, MELO 등\n",
    "\n",
    "# 환경 변수 설정\n",
    "os.environ['TORCH_USE_LIBUV'] = \"0\"\n",
    "os.environ['TP_SOCKET_USE_LIBUV'] = \"0\"\n",
    "os.environ['GLOO_USE_LIBUV'] = \"0\"\n",
    "os.environ['MELO_DISABLE_DDP'] = \"1\"\n",
    "\n",
    "# sys.path에 MeloTTS 레포지토리 루트 추가\n",
    "if S(MELO) not in sys.path:\n",
    "    sys.path.append(S(MELO))\n",
    "\n",
    "print(\"sys.path에 MeloTTS 추가 완료.\")\n",
    "print(\"환경 변수 설정 완료.\")\n",
    "\n",
    "# MeloTTS.melo.train 모듈을 임포트하고 main 함수 직접 호출\n",
    "# Note: 이 방법은 train.py의 내부 구조에 따라 성공 여부가 달라질 수 있습니다.\n",
    "# 만약 작동하지 않는다면, 두 번째 해결책을 시도해야 합니다.\n",
    "try:\n",
    "    from melo.train import main as train_main\n",
    "\n",
    "    # main 함수에 필요한 인자 설정\n",
    "    parser_args = [\n",
    "        \"--model\", \"vits2\",\n",
    "        \"--config\", S(EXP/\"config_finetune_my.json\"),\n",
    "        \"--pretrain_G\", S(EXP/\"warmup_checkpoint.pth\"),\n",
    "        \"--world-size\", \"1\"\n",
    "    ]\n",
    "\n",
    "    print(\"직접 train.py main 함수 호출 시도...\")\n",
    "    train_main(parser_args)\n",
    "    print(\"훈련 스크립트 실행 완료.\")\n",
    "\n",
    "except ImportError as e:\n",
    "    print(f\"MeloTTS.melo.train 모듈을 찾을 수 없습니다. 에러: {e}\")\n",
    "    print(\"직접 실행 대신 subprocess 방식을 사용합니다.\")\n",
    "\n",
    "    # 두 번째 해결책: subprocess.run()을 사용하여 더 명시적인 실행\n",
    "    cmd = [\n",
    "        sys.executable,  # 현재 사용 중인 파이썬 인터프리터\n",
    "        \"-m\", \"MeloTTS.melo.train\",\n",
    "        \"--model\", \"vits2\",\n",
    "        \"--config\", S(EXP/\"config_finetune_my.json\"),\n",
    "        \"--pretrain_G\", S(EXP/\"warmup_checkpoint.pth\"),\n",
    "        \"--world-size\", \"1\"\n",
    "    ]\n",
    "\n",
    "    print(\"\\nsubprocess로 훈련 스크립트 실행 시작...\")\n",
    "    print(\"명령어:\", \" \".join(cmd))\n",
    "\n",
    "    process = subprocess.Popen(cmd,\n",
    "                               stdout=subprocess.PIPE,\n",
    "                               stderr=subprocess.STDOUT,\n",
    "                               universal_newlines=True,\n",
    "                               encoding=\"utf-8\",\n",
    "                               cwd=S(ROOT))\n",
    "\n",
    "    # 실시간으로 출력 로그를 표시\n",
    "    for line in iter(process.stdout.readline, ''):\n",
    "        sys.stdout.write(line)\n",
    "\n",
    "    process.wait()\n",
    "    print(\"subprocess 실행 완료, 종료 코드:\", process.returncode)"
   ],
   "id": "4d35a3701c4179cd",
   "outputs": [
    {
     "name": "stdout",
     "output_type": "stream",
     "text": [
      "sys.path에 MeloTTS 추가 완료.\n",
      "환경 변수 설정 완료.\n",
      "MeloTTS.melo.train 모듈을 찾을 수 없습니다. 에러: No module named 'melo.train'\n",
      "직접 실행 대신 subprocess 방식을 사용합니다.\n",
      "\n",
      "subprocess로 훈련 스크립트 실행 시작...\n",
      "명령어: C:\\Users\\JiHwan\\anaconda3\\envs\\PythonProject\\python.exe -m MeloTTS.melo.train --model vits2 --config C:\\Users\\JiHwan\\PycharmProjects\\PythonProject\\exp_myvoice\\config_finetune_my.json --pretrain_G C:\\Users\\JiHwan\\PycharmProjects\\PythonProject\\exp_myvoice\\warmup_checkpoint.pth --world-size 1\n",
      "C:\\Users\\JiHwan\\anaconda3\\envs\\PythonProject\\Lib\\site-packages\\jieba\\_compat.py:18: UserWarning: pkg_resources is deprecated as an API. See https://setuptools.pypa.io/en/latest/pkg_resources.html. The pkg_resources package is slated for removal as early as 2025-11-30. Refrain from using this package or pin to Setuptools<81.\n",
      "  import pkg_resources\n",
      "C:\\Users\\JiHwan\\anaconda3\\envs\\PythonProject\\Lib\\site-packages\\requests\\__init__.py:86: RequestsDependencyWarning: Unable to find acceptable character detection dependency (chardet or charset_normalizer).\n",
      "  warnings.warn(\n",
      "C:\\Users\\JiHwan\\anaconda3\\envs\\PythonProject\\Lib\\contextlib.py:105: FutureWarning: `torch.backends.cuda.sdp_kernel()` is deprecated. In the future, this context manager will be removed. Please see `torch.nn.attention.sdpa_kernel()` for the new context manager, with updated signature.\n",
      "  self.gen = func(*args, **kwds)\n",
      "--- Logging error ---\n",
      "Traceback (most recent call last):\n",
      "  File \"C:\\Users\\JiHwan\\anaconda3\\envs\\PythonProject\\Lib\\logging\\__init__.py\", line 1163, in emit\n",
      "    stream.write(msg + self.terminator)\n",
      "UnicodeEncodeError: 'cp949' codec can't encode character '\\xe7' in position 2005: illegal multibyte sequence\n",
      "Call stack:\n",
      "  File \"<frozen runpy>\", line 198, in _run_module_as_main\n",
      "  File \"<frozen runpy>\", line 88, in _run_code\n",
      "  File \"C:\\Users\\JiHwan\\PycharmProjects\\PythonProject\\MeloTTS\\melo\\train.py\", line 598, in <module>\n",
      "    run()\n",
      "  File \"C:\\Users\\JiHwan\\PycharmProjects\\PythonProject\\MeloTTS\\melo\\train.py\", line 124, in run\n",
      "    logger.info(hps)\n",
      "Message: {'train': {'segment_size': 16384, 'epochs': 10, 'batch_size': 8, 'learning_rate': 0.0001, 'grad_accum_steps': 2, 'mixed_precision': True, 'betas': [0.9, 0.98], 'eps': 1e-09, 'weight_decay': 0.01}, 'data': {'sampling_rate': 44100, 'filter_length': 2048, 'hop_length': 512, 'win_length': 2048, 'add_blank': True, 'max_wav_value': 32768.0, 'n_speakers': 256, 'spk2id': {'KR': 0, 'Hong': 1}, 'training_files': 'C:\\\\Users\\\\JiHwan\\\\PycharmProjects\\\\PythonProject\\\\data_melo\\\\metadata.csv', 'validation_files': 'C:\\\\Users\\\\JiHwan\\\\PycharmProjects\\\\PythonProject\\\\data_melo\\\\metadata_val.csv', 'audio_dir': 'C:\\\\Users\\\\JiHwan\\\\PycharmProjects\\\\PythonProject\\\\data_melo\\\\wavs\\\\'}, 'model': {'use_spk_conditioned_encoder': True, 'use_noise_scaled_mas': True, 'use_mel_posterior_encoder': False, 'use_duration_discriminator': True, 'inter_channels': 192, 'hidden_channels': 192, 'filter_channels': 768, 'n_heads': 2, 'n_layers': 6, 'n_layers_trans_flow': 3, 'kernel_size': 3, 'p_dropout': 0.1, 'resblock': '1', 'resblock_kernel_sizes': [3, 7, 11], 'resblock_dilation_sizes': [[1, 3, 5], [1, 3, 5], [1, 3, 5]], 'upsample_rates': [8, 8, 2, 2, 2], 'upsample_initial_channel': 512, 'upsample_kernel_sizes': [16, 16, 8, 2, 2], 'n_layers_q': 3, 'use_spectral_norm': False, 'gin_channels': 256}, 'symbols': ['_', '\"', '(', ')', '*', '/', ':', 'AA', 'E', 'EE', 'En', 'N', 'OO', 'Q', 'V', '[', '\\\\', ']', '^', 'a', 'a:', 'aa', 'ae', 'ah', 'ai', 'an', 'ang', 'ao', 'aw', 'ay', 'b', 'by', 'c', 'ch', 'd', 'dh', 'dy', 'e', 'e:', 'eh', 'ei', 'en', 'eng', 'er', 'ey', 'f', 'g', 'gy', 'h', 'hh', 'hy', 'i', 'i0', 'i:', 'ia', 'ian', 'iang', 'iao', 'ie', 'ih', 'in', 'ing', 'iong', 'ir', 'iu', 'iy', 'j', 'jh', 'k', 'ky', 'l', 'm', 'my', 'n', 'ng', 'ny', 'o', 'o:', 'ong', 'ou', 'ow', 'oy', 'p', 'py', 'q', 'r', 'ry', 's', 'sh', 't', 'th', 'ts', 'ty', 'u', 'u:', 'ua', 'uai', 'uan', 'uang', 'uh', 'ui', 'un', 'uo', 'uw', 'v', 'van', 've', 'vn', 'w', 'x', 'y', 'z', 'zh', 'zy', '~', '¡', '¿', 'æ', 'ç', 'ð', 'ø', 'ŋ', 'œ', 'ɐ', 'ɑ', 'ɒ', 'ɔ', 'ɕ', 'ə', 'ɛ', 'ɜ', 'ɡ', 'ɣ', 'ɥ', 'ɦ', 'ɪ', 'ɫ', 'ɬ', 'ɭ', 'ɯ', 'ɲ', 'ɵ', 'ɸ', 'ɹ', 'ɾ', 'ʁ', 'ʃ', 'ʊ', 'ʌ', 'ʎ', 'ʏ', 'ʑ', 'ʒ', 'ʝ', 'ʲ', 'ˈ', 'ˌ', 'ː', '̃', '̩', 'β', 'θ', 'ᄀ', 'ᄁ', 'ᄂ', 'ᄃ', 'ᄄ', 'ᄅ', 'ᄆ', 'ᄇ', 'ᄈ', 'ᄉ', 'ᄊ', 'ᄋ', 'ᄌ', 'ᄍ', 'ᄎ', 'ᄏ', 'ᄐ', 'ᄑ', 'ᄒ', 'ᅡ', 'ᅢ', 'ᅣ', 'ᅤ', 'ᅥ', 'ᅦ', 'ᅧ', 'ᅨ', 'ᅩ', 'ᅪ', 'ᅫ', 'ᅬ', 'ᅭ', 'ᅮ', 'ᅯ', 'ᅰ', 'ᅱ', 'ᅲ', 'ᅳ', 'ᅴ', 'ᅵ', 'ᆨ', 'ᆫ', 'ᆮ', 'ᆯ', 'ᆷ', 'ᆸ', 'ᆼ', 'ㄸ', '!', '?', '…', ',', '.', \"'\", '-', 'SP', 'UNK'], 'num_tones': 16, 'num_languages': 10, 'pretrain_G': 'C:\\\\Users\\\\JiHwan\\\\PycharmProjects\\\\PythonProject\\\\exp_myvoice\\\\warmup_checkpoint.pth', 'model_dir': './logs\\\\vits2', 'pretrain_D': None, 'pretrain_dur': None, 'port': 10000}\n",
      "Arguments: ()\n",
      "\u001B[32m2025-08-28 17:36:20.990\u001B[0m | \u001B[1mINFO    \u001B[0m | \u001B[36mMeloTTS.melo.data_utils\u001B[0m:\u001B[36m_filter\u001B[0m:\u001B[36m64\u001B[0m - \u001B[1mInit dataset...\u001B[0m\n",
      "\n",
      "  0%|          | 0/8 [00:00<?, ?it/s]\n",
      "100%|██████████| 8/8 [00:00<00:00, 7975.86it/s]\n",
      "\u001B[32m2025-08-28 17:36:20.993\u001B[0m | \u001B[1mINFO    \u001B[0m | \u001B[36mMeloTTS.melo.data_utils\u001B[0m:\u001B[36m_filter\u001B[0m:\u001B[36m84\u001B[0m - \u001B[1mmin: 118; max: 447\u001B[0m\n",
      "\u001B[32m2025-08-28 17:36:20.993\u001B[0m | \u001B[1mINFO    \u001B[0m | \u001B[36mMeloTTS.melo.data_utils\u001B[0m:\u001B[36m_filter\u001B[0m:\u001B[36m85\u001B[0m - \u001B[1mskipped: 0, total: 8\u001B[0m\n",
      "buckets: [8, 8, 8]\n",
      "\u001B[32m2025-08-28 17:36:20.994\u001B[0m | \u001B[1mINFO    \u001B[0m | \u001B[36mMeloTTS.melo.data_utils\u001B[0m:\u001B[36m_filter\u001B[0m:\u001B[36m64\u001B[0m - \u001B[1mInit dataset...\u001B[0m\n",
      "\n",
      "  0%|          | 0/1 [00:00<?, ?it/s]\n",
      "100%|██████████| 1/1 [00:00<?, ?it/s]\n",
      "\u001B[32m2025-08-28 17:36:20.994\u001B[0m | \u001B[1mINFO    \u001B[0m | \u001B[36mMeloTTS.melo.data_utils\u001B[0m:\u001B[36m_filter\u001B[0m:\u001B[36m84\u001B[0m - \u001B[1mmin: 97; max: 97\u001B[0m\n",
      "\u001B[32m2025-08-28 17:36:20.994\u001B[0m | \u001B[1mINFO    \u001B[0m | \u001B[36mMeloTTS.melo.data_utils\u001B[0m:\u001B[36m_filter\u001B[0m:\u001B[36m85\u001B[0m - \u001B[1mskipped: 0, total: 1\u001B[0m\n",
      "Using noise scaled MAS for VITS2\n",
      "Using duration discriminator for VITS2\n",
      "C:\\Users\\JiHwan\\anaconda3\\envs\\PythonProject\\Lib\\site-packages\\torch\\nn\\utils\\weight_norm.py:143: FutureWarning: `torch.nn.utils.weight_norm` is deprecated in favor of `torch.nn.utils.parametrizations.weight_norm`.\n",
      "  WeightNorm.apply(module, name, dim)\n",
      "C:\\Users\\JiHwan\\PycharmProjects\\PythonProject\\MeloTTS\\melo\\utils.py:65: FutureWarning: You are using `torch.load` with `weights_only=False` (the current default value), which uses the default pickle module implicitly. It is possible to construct malicious pickle data which will execute arbitrary code during unpickling (See https://github.com/pytorch/pytorch/blob/main/SECURITY.md#untrusted-models for more details). In a future release, the default value for `weights_only` will be flipped to `True`. This limits the functions that could be executed during unpickling. Arbitrary objects will no longer be allowed to be loaded via this mode unless they are explicitly allowlisted by the user via `torch.serialization.add_safe_globals`. We recommend you start setting `weights_only=True` for any use case where you don't have full control of the loaded file. Please open an issue on GitHub for any issues related to this experimental feature.\n",
      "  ckpt = torch.load(checkpoint_path, map_location=map_location)\n",
      "Traceback (most recent call last):\n",
      "  File \"<frozen runpy>\", line 198, in _run_module_as_main\n",
      "  File \"<frozen runpy>\", line 88, in _run_code\n",
      "  File \"C:\\Users\\JiHwan\\PycharmProjects\\PythonProject\\MeloTTS\\melo\\train.py\", line 598, in <module>\n",
      "    run()\n",
      "  File \"C:\\Users\\JiHwan\\PycharmProjects\\PythonProject\\MeloTTS\\melo\\train.py\", line 246, in run\n",
      "    utils.load_checkpoint(hps.pretrain_G, net_g, None, skip_optimizer=True)\n",
      "  File \"C:\\Users\\JiHwan\\PycharmProjects\\PythonProject\\MeloTTS\\melo\\utils.py\", line 110, in load_checkpoint\n",
      "    raise RuntimeError(\"Failed to load checkpoint: key alignment attempts all failed.\")\n",
      "RuntimeError: Failed to load checkpoint: key alignment attempts all failed.\n"
     ]
    }
   ],
   "execution_count": null
  },
  {
   "metadata": {
    "ExecuteTime": {
     "end_time": "2025-08-28T06:28:01.724231Z",
     "start_time": "2025-08-28T06:28:01.427662Z"
    }
   },
   "cell_type": "code",
   "source": [
    "# (선택) 혹시 모를 libuv 경로 완전 차단\n",
    "!env:TORCH_USE_LIBUV=\"0\"\n",
    "!env:TP_SOCKET_USE_LIBUV=\"0\"\n",
    "!env:GLOO_USE_LIBUV=\"0\"\n",
    "\n",
    "# 분산 비활성화 신호 (아래 코드 패치도 함께 적용할 때 효과적)\n",
    "!env:MELO_DISABLE_DDP=\"1\"\n",
    "\n",
    "!python -m MeloTTS.melo.train `-m vits2 `-c C:\\Users\\JiHwan\\PycharmProjects\\PythonProject\\exp_myvoice\\config_finetune_my.json `--pretrain_G C:\\Users\\JiHwan\\PycharmProjects\\PythonProject\\exp_myvoice\\warmup_checkpoint.pth `--world-size 1\n"
   ],
   "id": "969a49e5dd62213f",
   "outputs": [
    {
     "name": "stderr",
     "output_type": "stream",
     "text": [
      "The filename, directory name, or volume label syntax is incorrect.\n",
      "The filename, directory name, or volume label syntax is incorrect.\n",
      "The filename, directory name, or volume label syntax is incorrect.\n",
      "The filename, directory name, or volume label syntax is incorrect.\n",
      "Traceback (most recent call last):\n",
      "  File \"<frozen runpy>\", line 189, in _run_module_as_main\n",
      "  File \"<frozen runpy>\", line 159, in _get_module_details\n",
      "  File \"<frozen importlib._bootstrap_external>\", line 1133, in get_code\n",
      "  File \"<frozen importlib._bootstrap_external>\", line 1063, in source_to_code\n",
      "  File \"<frozen importlib._bootstrap>\", line 488, in _call_with_frames_removed\n",
      "  File \"C:\\Users\\JiHwan\\PycharmProjects\\PythonProject\\MeloTTS\\melo\\train.py\", line 265\n",
      "    global global_step\n",
      "    ^^^^^^^^^^^^^^^^^^\n",
      "SyntaxError: name 'global_step' is assigned to before global declaration\n"
     ]
    }
   ],
   "execution_count": 19
  },
  {
   "metadata": {
    "ExecuteTime": {
     "end_time": "2025-08-28T05:56:11.808962Z",
     "start_time": "2025-08-28T05:55:55.186185Z"
    }
   },
   "cell_type": "code",
   "source": [
    "p = subprocess.run(cmd, env=env, capture_output=True, text=True)\n",
    "print(\"=== STDOUT ===\")\n",
    "print(p.stdout)\n",
    "print(\"=== STDERR ===\")\n",
    "print(p.stderr)\n",
    "print(\"returncode:\", p.returncode)\n"
   ],
   "id": "333852e01cd638b8",
   "outputs": [
    {
     "name": "stdout",
     "output_type": "stream",
     "text": [
      "=== STDOUT ===\n",
      "\n",
      "=== STDERR ===\n",
      "C:\\Users\\JiHwan\\anaconda3\\envs\\PythonProject\\Lib\\site-packages\\jieba\\_compat.py:18: UserWarning: pkg_resources is deprecated as an API. See https://setuptools.pypa.io/en/latest/pkg_resources.html. The pkg_resources package is slated for removal as early as 2025-11-30. Refrain from using this package or pin to Setuptools<81.\n",
      "  import pkg_resources\n",
      "C:\\Users\\JiHwan\\anaconda3\\envs\\PythonProject\\Lib\\site-packages\\requests\\__init__.py:86: RequestsDependencyWarning: Unable to find acceptable character detection dependency (chardet or charset_normalizer).\n",
      "  warnings.warn(\n",
      "C:\\Users\\JiHwan\\anaconda3\\envs\\PythonProject\\Lib\\contextlib.py:105: FutureWarning: `torch.backends.cuda.sdp_kernel()` is deprecated. In the future, this context manager will be removed. Please see `torch.nn.attention.sdpa_kernel()` for the new context manager, with updated signature.\n",
      "  self.gen = func(*args, **kwds)\n",
      "Traceback (most recent call last):\n",
      "  File \"<frozen runpy>\", line 198, in _run_module_as_main\n",
      "  File \"<frozen runpy>\", line 88, in _run_code\n",
      "  File \"C:\\Users\\JiHwan\\PycharmProjects\\PythonProject\\MeloTTS\\melo\\train.py\", line 635, in <module>\n",
      "    run()\n",
      "  File \"C:\\Users\\JiHwan\\PycharmProjects\\PythonProject\\MeloTTS\\melo\\train.py\", line 52, in run\n",
      "    dist.init_process_group(\n",
      "  File \"C:\\Users\\JiHwan\\anaconda3\\envs\\PythonProject\\Lib\\site-packages\\torch\\distributed\\c10d_logger.py\", line 83, in wrapper\n",
      "    return func(*args, **kwargs)\n",
      "           ^^^^^^^^^^^^^^^^^^^^^\n",
      "  File \"C:\\Users\\JiHwan\\anaconda3\\envs\\PythonProject\\Lib\\site-packages\\torch\\distributed\\c10d_logger.py\", line 97, in wrapper\n",
      "    func_return = func(*args, **kwargs)\n",
      "                  ^^^^^^^^^^^^^^^^^^^^^\n",
      "  File \"C:\\Users\\JiHwan\\anaconda3\\envs\\PythonProject\\Lib\\site-packages\\torch\\distributed\\distributed_c10d.py\", line 1520, in init_process_group\n",
      "    store, rank, world_size = next(rendezvous_iterator)\n",
      "                              ^^^^^^^^^^^^^^^^^^^^^^^^^\n",
      "  File \"C:\\Users\\JiHwan\\anaconda3\\envs\\PythonProject\\Lib\\site-packages\\torch\\distributed\\rendezvous.py\", line 269, in _env_rendezvous_handler\n",
      "    store = _create_c10d_store(\n",
      "            ^^^^^^^^^^^^^^^^^^^\n",
      "  File \"C:\\Users\\JiHwan\\anaconda3\\envs\\PythonProject\\Lib\\site-packages\\torch\\distributed\\rendezvous.py\", line 189, in _create_c10d_store\n",
      "    return TCPStore(\n",
      "           ^^^^^^^^^\n",
      "RuntimeError: use_libuv was requested but PyTorch was build without libuv support\n",
      "\n",
      "returncode: 1\n"
     ]
    }
   ],
   "execution_count": 10
  },
  {
   "metadata": {
    "ExecuteTime": {
     "end_time": "2025-08-29T02:38:33.308757Z",
     "start_time": "2025-08-29T02:38:33.302119Z"
    }
   },
   "cell_type": "code",
   "source": "torch.__version__",
   "id": "8c874c5db80482ee",
   "outputs": [
    {
     "data": {
      "text/plain": [
       "'2.8.0+cpu'"
      ]
     },
     "execution_count": 3,
     "metadata": {},
     "output_type": "execute_result"
    }
   ],
   "execution_count": 3
  },
  {
   "metadata": {},
   "cell_type": "code",
   "outputs": [],
   "execution_count": null,
   "source": [
    "import re, torch\n",
    "from pathlib import Path\n",
    "\n",
    "# EXP 폴더 우선으로 검색, 없으면 MeloTTS 하위도 스캔\n",
    "cands = sorted(EXP.rglob(\"*.pth\"), key=os.path.getmtime)\n",
    "cands = [p for p in cands if not re.search(r\"(warmup|optimizer|ema|baseline)\", p.name, re.I)]\n",
    "\n",
    "if not cands:\n",
    "    cands = sorted((MELO).rglob(\"*.pth\"), key=os.path.getmtime)\n",
    "    cands = [p for p in cands if not re.search(r\"(warmup|optimizer|ema|baseline)\", p.name, re.I)]\n",
    "\n",
    "print(\"후보 ckpt 최근 5개:\", [S(p) for p in cands[-5:]])\n",
    "assert cands, \"학습된 .pth를 못 찾았어요. 저장 경로/주기를 확인하세요.\"\n",
    "finetuned_ckpt = cands[-1]\n",
    "print(\"사용 ckpt:\", S(finetuned_ckpt))\n",
    "\n",
    "# 합성\n",
    "sys.path.append(S(MELO))\n",
    "from melo.api import TTS\n",
    "\n",
    "device = \"cuda\" if torch.cuda.is_available() else \"cpu\"\n",
    "tts = TTS(language=\"KR\", device=device, ckpt_path=S(finetuned_ckpt))\n",
    "spk2id = tts.hps.data.spk2id\n",
    "print(\"등록 화자맵:\", spk2id)\n",
    "\n",
    "spk = spk2id.get(\"Hong\", spk2id.get(\"KR\", next(iter(spk2id.values()))))\n",
    "out_wav = ROOT/\"myvoice_sample.wav\"\n",
    "tts.tts_to_file(\"안녕하세요, 홍진경입니다. 솔로지옥 많은 관심 부탁드려요.\", spk, S(out_wav), speed=1.0)\n",
    "print(\"합성 출력:\", S(out_wav))\n"
   ],
   "id": "b42ceec2726c3e39"
  }
 ],
 "metadata": {
  "kernelspec": {
   "display_name": "PythonProject (CUDA)",
   "language": "python",
   "name": "pythonproject"
  },
  "language_info": {
   "codemirror_mode": {
    "name": "ipython",
    "version": 2
   },
   "file_extension": ".py",
   "mimetype": "text/x-python",
   "name": "python",
   "nbconvert_exporter": "python",
   "pygments_lexer": "ipython2",
   "version": "2.7.6"
  }
 },
 "nbformat": 4,
 "nbformat_minor": 5
}
